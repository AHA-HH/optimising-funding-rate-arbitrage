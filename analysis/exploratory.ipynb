{
 "cells": [
  {
   "cell_type": "code",
   "execution_count": 2,
   "metadata": {},
   "outputs": [
    {
     "data": {
      "text/plain": [
       "'/Users/aneeshussain/Code/diss/analysis'"
      ]
     },
     "execution_count": 2,
     "metadata": {},
     "output_type": "execute_result"
    }
   ],
   "source": [
    "# %pip install plotly\n",
    "# %pip install nbformat\n",
    "import pandas as pd\n",
    "import matplotlib.pyplot as plt\n",
    "import sys\n",
    "import os\n",
    "import plotly.express as px\n",
    "import plotly.graph_objects as go\n",
    "from plotly.subplots import make_subplots\n",
    "\n",
    "os.getcwd()"
   ]
  },
  {
   "cell_type": "code",
   "execution_count": 3,
   "metadata": {},
   "outputs": [
    {
     "name": "stdout",
     "output_type": "stream",
     "text": [
      "Changed directory to: /Users/aneeshussain/Code/diss\n"
     ]
    }
   ],
   "source": [
    "# Get the current directory\n",
    "current_dir = os.getcwd()\n",
    "\n",
    "# Change directory to the parent directory (diss)\n",
    "parent_dir = os.path.abspath(os.path.join(current_dir, '..'))\n",
    "os.chdir(parent_dir)\n",
    "\n",
    "# Append the parent directory to the system path (optional, if you want to add it to the import path)\n",
    "sys.path.append(parent_dir)\n",
    "\n",
    "# Print the new current working directory to confirm the change\n",
    "print(f\"Changed directory to: {os.getcwd()}\")"
   ]
  },
  {
   "cell_type": "code",
   "execution_count": 3,
   "metadata": {},
   "outputs": [
    {
     "name": "stdout",
     "output_type": "stream",
     "text": [
      "binance Funding stats\n",
      "          positive_count  total_count  positive_percentage\n",
      "BTCUSDCM            1435         1642            87.393423\n",
      "BTCUSDT             1517         1642            92.387333\n",
      "ETHUSDCM            1467         1642            89.342266\n",
      "ETHUSDT             1539         1642            93.727162\n",
      "\n",
      "\n",
      "okx Funding stats\n",
      "          positive_count  total_count  positive_percentage\n",
      "BTCUSDCM            1132         1642            68.940317\n",
      "BTCUSDT             1203         1642            73.264312\n",
      "ETHUSDCM            1163         1642            70.828258\n",
      "ETHUSDT             1226         1642            74.665043\n",
      "\n",
      "\n",
      "bybit Funding stats\n",
      "          positive_count  total_count  positive_percentage\n",
      "BTCUSDCM            1472         1642            89.646772\n",
      "BTCUSDT             1494         1642            90.986602\n",
      "ETHUSDCM            1481         1642            90.194884\n",
      "ETHUSDT             1474         1642            89.768575\n",
      "\n",
      "\n"
     ]
    }
   ],
   "source": [
    "import pandas as pd\n",
    "\n",
    "# Filepaths for each exchange\n",
    "filepaths = {\n",
    "    'binance': './data/processed/binance.csv',\n",
    "    'okx': './data/processed/okx.csv',\n",
    "    'bybit': './data/processed/bybit.csv'\n",
    "}\n",
    "\n",
    "# List of specified pairs\n",
    "specified_pairs = ['BTCUSDCM', 'BTCUSDT', 'ETHUSDCM', 'ETHUSDT']\n",
    "\n",
    "# Initialize a dictionary to store counts for each exchange\n",
    "exchange_funding_stats = {}\n",
    "\n",
    "# Loop through each exchange\n",
    "for exchange, filepath in filepaths.items():\n",
    "    # Load the data for the current exchange\n",
    "    df = pd.read_csv(filepath)\n",
    "\n",
    "    # Convert 'funding rate' to float\n",
    "    df['funding rate'] = pd.to_numeric(df['funding rate'], errors='coerce')\n",
    "\n",
    "    # Filter the DataFrame to only include the specified pairs\n",
    "    filtered_df = df[df['pair'].isin(specified_pairs)]\n",
    "\n",
    "    # Initialize dictionaries to store counts for this exchange\n",
    "    positive_funding_counts = {}\n",
    "    total_funding_counts = {}\n",
    "\n",
    "    # Iterate through each specified pair\n",
    "    for pair in specified_pairs:\n",
    "        # Filter rows for the current pair\n",
    "        pair_df = filtered_df[filtered_df['pair'] == pair]\n",
    "\n",
    "        # Count positive funding rates\n",
    "        positive_count = (pair_df['funding rate'] > 0).sum()\n",
    "        total_count = len(pair_df)\n",
    "\n",
    "        # Store the counts in the dictionaries\n",
    "        positive_funding_counts[pair] = positive_count\n",
    "        total_funding_counts[pair] = total_count\n",
    "\n",
    "    # Create a DataFrame for this exchange to display the counts\n",
    "    funding_stats = pd.DataFrame({\n",
    "        'positive_count': positive_funding_counts,\n",
    "        'total_count': total_funding_counts\n",
    "    })\n",
    "\n",
    "    # Calculate the percentage of positive funding rates\n",
    "    funding_stats['positive_percentage'] = (funding_stats['positive_count'] / funding_stats['total_count']) * 100\n",
    "\n",
    "    # Store the result for this exchange\n",
    "    exchange_funding_stats[exchange] = funding_stats\n",
    "\n",
    "# Display the results for each exchange\n",
    "for exchange, stats in exchange_funding_stats.items():\n",
    "    print(f\"{exchange} Funding stats\")\n",
    "    print(stats)\n",
    "    print(\"\\n\")"
   ]
  },
  {
   "cell_type": "code",
   "execution_count": 72,
   "metadata": {},
   "outputs": [
    {
     "data": {
      "application/vnd.plotly.v1+json": {
       "config": {
        "plotlyServerURL": "https://plot.ly"
       },
       "data": [
        {
         "marker": {
          "color": "green"
         },
         "name": "Positive Funding Payments",
         "type": "bar",
         "x": [
          "2023-01-01T00:00:00",
          "2023-02-01T00:00:00",
          "2023-03-01T00:00:00",
          "2023-04-01T00:00:00",
          "2023-05-01T00:00:00",
          "2023-06-01T00:00:00",
          "2023-07-01T00:00:00",
          "2023-08-01T00:00:00",
          "2023-09-01T00:00:00",
          "2023-10-01T00:00:00",
          "2023-11-01T00:00:00",
          "2023-12-01T00:00:00",
          "2024-01-01T00:00:00",
          "2024-02-01T00:00:00",
          "2024-03-01T00:00:00",
          "2024-04-01T00:00:00",
          "2024-05-01T00:00:00",
          "2024-06-01T00:00:00",
          "2024-07-01T00:00:00"
         ],
         "y": [
          72723.16291639971,
          71042.8746069927,
          50418.53727362,
          40845.36727908679,
          41991.1091094723,
          50230.03212826965,
          45210.43455629277,
          46724.94476847996,
          15819.848199723358,
          42393.03575656923,
          110990.49075936434,
          209743.95379895295,
          125299.22890544489,
          166310.7746130507,
          508109.4261633778,
          108309.54810092214,
          65518.86907438419,
          68336.08058670475,
          841.2019908363492
         ]
        },
        {
         "marker": {
          "color": "red"
         },
         "name": "Negative Funding Payments",
         "type": "bar",
         "x": [
          "2023-01-01T00:00:00",
          "2023-02-01T00:00:00",
          "2023-03-01T00:00:00",
          "2023-04-01T00:00:00",
          "2023-05-01T00:00:00",
          "2023-06-01T00:00:00",
          "2023-07-01T00:00:00",
          "2023-08-01T00:00:00",
          "2023-09-01T00:00:00",
          "2023-10-01T00:00:00",
          "2023-11-01T00:00:00",
          "2023-12-01T00:00:00",
          "2024-01-01T00:00:00",
          "2024-02-01T00:00:00",
          "2024-03-01T00:00:00",
          "2024-04-01T00:00:00",
          "2024-05-01T00:00:00",
          "2024-06-01T00:00:00",
          "2024-07-01T00:00:00"
         ],
         "y": [
          -1883.339465648383,
          -1811.1401598157013,
          -8623.604710385745,
          -5011.485176022261,
          -4365.442311059934,
          -2907.052193473473,
          -3255.21415303373,
          -5304.256153503632,
          -4440.756666826251,
          -2750.3640095615915,
          -1058.0430188956227,
          -283.8674123006697,
          -2131.8120212342724,
          -740.7281303255544,
          -129.7964835961461,
          -4095.985393518848,
          -1421.513275191739,
          -1548.0365181553425,
          -57.98640073371824
         ]
        }
       ],
       "layout": {
        "barmode": "relative",
        "hovermode": "x unified",
        "template": {
         "data": {
          "bar": [
           {
            "error_x": {
             "color": "#2a3f5f"
            },
            "error_y": {
             "color": "#2a3f5f"
            },
            "marker": {
             "line": {
              "color": "white",
              "width": 0.5
             },
             "pattern": {
              "fillmode": "overlay",
              "size": 10,
              "solidity": 0.2
             }
            },
            "type": "bar"
           }
          ],
          "barpolar": [
           {
            "marker": {
             "line": {
              "color": "white",
              "width": 0.5
             },
             "pattern": {
              "fillmode": "overlay",
              "size": 10,
              "solidity": 0.2
             }
            },
            "type": "barpolar"
           }
          ],
          "carpet": [
           {
            "aaxis": {
             "endlinecolor": "#2a3f5f",
             "gridcolor": "#C8D4E3",
             "linecolor": "#C8D4E3",
             "minorgridcolor": "#C8D4E3",
             "startlinecolor": "#2a3f5f"
            },
            "baxis": {
             "endlinecolor": "#2a3f5f",
             "gridcolor": "#C8D4E3",
             "linecolor": "#C8D4E3",
             "minorgridcolor": "#C8D4E3",
             "startlinecolor": "#2a3f5f"
            },
            "type": "carpet"
           }
          ],
          "choropleth": [
           {
            "colorbar": {
             "outlinewidth": 0,
             "ticks": ""
            },
            "type": "choropleth"
           }
          ],
          "contour": [
           {
            "colorbar": {
             "outlinewidth": 0,
             "ticks": ""
            },
            "colorscale": [
             [
              0,
              "#0d0887"
             ],
             [
              0.1111111111111111,
              "#46039f"
             ],
             [
              0.2222222222222222,
              "#7201a8"
             ],
             [
              0.3333333333333333,
              "#9c179e"
             ],
             [
              0.4444444444444444,
              "#bd3786"
             ],
             [
              0.5555555555555556,
              "#d8576b"
             ],
             [
              0.6666666666666666,
              "#ed7953"
             ],
             [
              0.7777777777777778,
              "#fb9f3a"
             ],
             [
              0.8888888888888888,
              "#fdca26"
             ],
             [
              1,
              "#f0f921"
             ]
            ],
            "type": "contour"
           }
          ],
          "contourcarpet": [
           {
            "colorbar": {
             "outlinewidth": 0,
             "ticks": ""
            },
            "type": "contourcarpet"
           }
          ],
          "heatmap": [
           {
            "colorbar": {
             "outlinewidth": 0,
             "ticks": ""
            },
            "colorscale": [
             [
              0,
              "#0d0887"
             ],
             [
              0.1111111111111111,
              "#46039f"
             ],
             [
              0.2222222222222222,
              "#7201a8"
             ],
             [
              0.3333333333333333,
              "#9c179e"
             ],
             [
              0.4444444444444444,
              "#bd3786"
             ],
             [
              0.5555555555555556,
              "#d8576b"
             ],
             [
              0.6666666666666666,
              "#ed7953"
             ],
             [
              0.7777777777777778,
              "#fb9f3a"
             ],
             [
              0.8888888888888888,
              "#fdca26"
             ],
             [
              1,
              "#f0f921"
             ]
            ],
            "type": "heatmap"
           }
          ],
          "heatmapgl": [
           {
            "colorbar": {
             "outlinewidth": 0,
             "ticks": ""
            },
            "colorscale": [
             [
              0,
              "#0d0887"
             ],
             [
              0.1111111111111111,
              "#46039f"
             ],
             [
              0.2222222222222222,
              "#7201a8"
             ],
             [
              0.3333333333333333,
              "#9c179e"
             ],
             [
              0.4444444444444444,
              "#bd3786"
             ],
             [
              0.5555555555555556,
              "#d8576b"
             ],
             [
              0.6666666666666666,
              "#ed7953"
             ],
             [
              0.7777777777777778,
              "#fb9f3a"
             ],
             [
              0.8888888888888888,
              "#fdca26"
             ],
             [
              1,
              "#f0f921"
             ]
            ],
            "type": "heatmapgl"
           }
          ],
          "histogram": [
           {
            "marker": {
             "pattern": {
              "fillmode": "overlay",
              "size": 10,
              "solidity": 0.2
             }
            },
            "type": "histogram"
           }
          ],
          "histogram2d": [
           {
            "colorbar": {
             "outlinewidth": 0,
             "ticks": ""
            },
            "colorscale": [
             [
              0,
              "#0d0887"
             ],
             [
              0.1111111111111111,
              "#46039f"
             ],
             [
              0.2222222222222222,
              "#7201a8"
             ],
             [
              0.3333333333333333,
              "#9c179e"
             ],
             [
              0.4444444444444444,
              "#bd3786"
             ],
             [
              0.5555555555555556,
              "#d8576b"
             ],
             [
              0.6666666666666666,
              "#ed7953"
             ],
             [
              0.7777777777777778,
              "#fb9f3a"
             ],
             [
              0.8888888888888888,
              "#fdca26"
             ],
             [
              1,
              "#f0f921"
             ]
            ],
            "type": "histogram2d"
           }
          ],
          "histogram2dcontour": [
           {
            "colorbar": {
             "outlinewidth": 0,
             "ticks": ""
            },
            "colorscale": [
             [
              0,
              "#0d0887"
             ],
             [
              0.1111111111111111,
              "#46039f"
             ],
             [
              0.2222222222222222,
              "#7201a8"
             ],
             [
              0.3333333333333333,
              "#9c179e"
             ],
             [
              0.4444444444444444,
              "#bd3786"
             ],
             [
              0.5555555555555556,
              "#d8576b"
             ],
             [
              0.6666666666666666,
              "#ed7953"
             ],
             [
              0.7777777777777778,
              "#fb9f3a"
             ],
             [
              0.8888888888888888,
              "#fdca26"
             ],
             [
              1,
              "#f0f921"
             ]
            ],
            "type": "histogram2dcontour"
           }
          ],
          "mesh3d": [
           {
            "colorbar": {
             "outlinewidth": 0,
             "ticks": ""
            },
            "type": "mesh3d"
           }
          ],
          "parcoords": [
           {
            "line": {
             "colorbar": {
              "outlinewidth": 0,
              "ticks": ""
             }
            },
            "type": "parcoords"
           }
          ],
          "pie": [
           {
            "automargin": true,
            "type": "pie"
           }
          ],
          "scatter": [
           {
            "fillpattern": {
             "fillmode": "overlay",
             "size": 10,
             "solidity": 0.2
            },
            "type": "scatter"
           }
          ],
          "scatter3d": [
           {
            "line": {
             "colorbar": {
              "outlinewidth": 0,
              "ticks": ""
             }
            },
            "marker": {
             "colorbar": {
              "outlinewidth": 0,
              "ticks": ""
             }
            },
            "type": "scatter3d"
           }
          ],
          "scattercarpet": [
           {
            "marker": {
             "colorbar": {
              "outlinewidth": 0,
              "ticks": ""
             }
            },
            "type": "scattercarpet"
           }
          ],
          "scattergeo": [
           {
            "marker": {
             "colorbar": {
              "outlinewidth": 0,
              "ticks": ""
             }
            },
            "type": "scattergeo"
           }
          ],
          "scattergl": [
           {
            "marker": {
             "colorbar": {
              "outlinewidth": 0,
              "ticks": ""
             }
            },
            "type": "scattergl"
           }
          ],
          "scattermapbox": [
           {
            "marker": {
             "colorbar": {
              "outlinewidth": 0,
              "ticks": ""
             }
            },
            "type": "scattermapbox"
           }
          ],
          "scatterpolar": [
           {
            "marker": {
             "colorbar": {
              "outlinewidth": 0,
              "ticks": ""
             }
            },
            "type": "scatterpolar"
           }
          ],
          "scatterpolargl": [
           {
            "marker": {
             "colorbar": {
              "outlinewidth": 0,
              "ticks": ""
             }
            },
            "type": "scatterpolargl"
           }
          ],
          "scatterternary": [
           {
            "marker": {
             "colorbar": {
              "outlinewidth": 0,
              "ticks": ""
             }
            },
            "type": "scatterternary"
           }
          ],
          "surface": [
           {
            "colorbar": {
             "outlinewidth": 0,
             "ticks": ""
            },
            "colorscale": [
             [
              0,
              "#0d0887"
             ],
             [
              0.1111111111111111,
              "#46039f"
             ],
             [
              0.2222222222222222,
              "#7201a8"
             ],
             [
              0.3333333333333333,
              "#9c179e"
             ],
             [
              0.4444444444444444,
              "#bd3786"
             ],
             [
              0.5555555555555556,
              "#d8576b"
             ],
             [
              0.6666666666666666,
              "#ed7953"
             ],
             [
              0.7777777777777778,
              "#fb9f3a"
             ],
             [
              0.8888888888888888,
              "#fdca26"
             ],
             [
              1,
              "#f0f921"
             ]
            ],
            "type": "surface"
           }
          ],
          "table": [
           {
            "cells": {
             "fill": {
              "color": "#EBF0F8"
             },
             "line": {
              "color": "white"
             }
            },
            "header": {
             "fill": {
              "color": "#C8D4E3"
             },
             "line": {
              "color": "white"
             }
            },
            "type": "table"
           }
          ]
         },
         "layout": {
          "annotationdefaults": {
           "arrowcolor": "#2a3f5f",
           "arrowhead": 0,
           "arrowwidth": 1
          },
          "autotypenumbers": "strict",
          "coloraxis": {
           "colorbar": {
            "outlinewidth": 0,
            "ticks": ""
           }
          },
          "colorscale": {
           "diverging": [
            [
             0,
             "#8e0152"
            ],
            [
             0.1,
             "#c51b7d"
            ],
            [
             0.2,
             "#de77ae"
            ],
            [
             0.3,
             "#f1b6da"
            ],
            [
             0.4,
             "#fde0ef"
            ],
            [
             0.5,
             "#f7f7f7"
            ],
            [
             0.6,
             "#e6f5d0"
            ],
            [
             0.7,
             "#b8e186"
            ],
            [
             0.8,
             "#7fbc41"
            ],
            [
             0.9,
             "#4d9221"
            ],
            [
             1,
             "#276419"
            ]
           ],
           "sequential": [
            [
             0,
             "#0d0887"
            ],
            [
             0.1111111111111111,
             "#46039f"
            ],
            [
             0.2222222222222222,
             "#7201a8"
            ],
            [
             0.3333333333333333,
             "#9c179e"
            ],
            [
             0.4444444444444444,
             "#bd3786"
            ],
            [
             0.5555555555555556,
             "#d8576b"
            ],
            [
             0.6666666666666666,
             "#ed7953"
            ],
            [
             0.7777777777777778,
             "#fb9f3a"
            ],
            [
             0.8888888888888888,
             "#fdca26"
            ],
            [
             1,
             "#f0f921"
            ]
           ],
           "sequentialminus": [
            [
             0,
             "#0d0887"
            ],
            [
             0.1111111111111111,
             "#46039f"
            ],
            [
             0.2222222222222222,
             "#7201a8"
            ],
            [
             0.3333333333333333,
             "#9c179e"
            ],
            [
             0.4444444444444444,
             "#bd3786"
            ],
            [
             0.5555555555555556,
             "#d8576b"
            ],
            [
             0.6666666666666666,
             "#ed7953"
            ],
            [
             0.7777777777777778,
             "#fb9f3a"
            ],
            [
             0.8888888888888888,
             "#fdca26"
            ],
            [
             1,
             "#f0f921"
            ]
           ]
          },
          "colorway": [
           "#636efa",
           "#EF553B",
           "#00cc96",
           "#ab63fa",
           "#FFA15A",
           "#19d3f3",
           "#FF6692",
           "#B6E880",
           "#FF97FF",
           "#FECB52"
          ],
          "font": {
           "color": "#2a3f5f"
          },
          "geo": {
           "bgcolor": "white",
           "lakecolor": "white",
           "landcolor": "white",
           "showlakes": true,
           "showland": true,
           "subunitcolor": "#C8D4E3"
          },
          "hoverlabel": {
           "align": "left"
          },
          "hovermode": "closest",
          "mapbox": {
           "style": "light"
          },
          "paper_bgcolor": "white",
          "plot_bgcolor": "white",
          "polar": {
           "angularaxis": {
            "gridcolor": "#EBF0F8",
            "linecolor": "#EBF0F8",
            "ticks": ""
           },
           "bgcolor": "white",
           "radialaxis": {
            "gridcolor": "#EBF0F8",
            "linecolor": "#EBF0F8",
            "ticks": ""
           }
          },
          "scene": {
           "xaxis": {
            "backgroundcolor": "white",
            "gridcolor": "#DFE8F3",
            "gridwidth": 2,
            "linecolor": "#EBF0F8",
            "showbackground": true,
            "ticks": "",
            "zerolinecolor": "#EBF0F8"
           },
           "yaxis": {
            "backgroundcolor": "white",
            "gridcolor": "#DFE8F3",
            "gridwidth": 2,
            "linecolor": "#EBF0F8",
            "showbackground": true,
            "ticks": "",
            "zerolinecolor": "#EBF0F8"
           },
           "zaxis": {
            "backgroundcolor": "white",
            "gridcolor": "#DFE8F3",
            "gridwidth": 2,
            "linecolor": "#EBF0F8",
            "showbackground": true,
            "ticks": "",
            "zerolinecolor": "#EBF0F8"
           }
          },
          "shapedefaults": {
           "line": {
            "color": "#2a3f5f"
           }
          },
          "ternary": {
           "aaxis": {
            "gridcolor": "#DFE8F3",
            "linecolor": "#A2B1C6",
            "ticks": ""
           },
           "baxis": {
            "gridcolor": "#DFE8F3",
            "linecolor": "#A2B1C6",
            "ticks": ""
           },
           "bgcolor": "white",
           "caxis": {
            "gridcolor": "#DFE8F3",
            "linecolor": "#A2B1C6",
            "ticks": ""
           }
          },
          "title": {
           "x": 0.05
          },
          "xaxis": {
           "automargin": true,
           "gridcolor": "#EBF0F8",
           "linecolor": "#EBF0F8",
           "ticks": "",
           "title": {
            "standoff": 15
           },
           "zerolinecolor": "#EBF0F8",
           "zerolinewidth": 2
          },
          "yaxis": {
           "automargin": true,
           "gridcolor": "#EBF0F8",
           "linecolor": "#EBF0F8",
           "ticks": "",
           "title": {
            "standoff": 15
           },
           "zerolinecolor": "#EBF0F8",
           "zerolinewidth": 2
          }
         }
        },
        "title": {
         "text": "Monthly Funding Payments with Cumulative Profit"
        },
        "xaxis": {
         "showgrid": true,
         "tickangle": 45,
         "tickformat": "%b %Y",
         "title": {
          "text": "Month"
         }
        },
        "yaxis": {
         "title": {
          "text": "Funding Payment (USD)"
         }
        }
       }
      }
     },
     "metadata": {},
     "output_type": "display_data"
    }
   ],
   "source": [
    "funding_filepath = './results/test/funding_log.csv' \n",
    "funding_df = pd.read_csv(funding_filepath)\n",
    "\n",
    "# Convert 'time' to datetime format\n",
    "funding_df['time'] = pd.to_datetime(funding_df['time'])\n",
    "\n",
    "# Extract the month to aggregate funding payments\n",
    "funding_df['month'] = funding_df['time'].dt.to_period('M')\n",
    "\n",
    "# Calculate cumulative profit over time (using the original 'funding payment' column)\n",
    "funding_df['cumulative_profit'] = funding_df['funding payment'].cumsum()\n",
    "\n",
    "# Aggregate monthly funding payments for cumulative profit\n",
    "monthly_cumulative_profit = funding_df.groupby('month')['cumulative_profit'].last().reset_index()\n",
    "\n",
    "# Separate positive and negative funding payments before aggregation\n",
    "funding_df['positive'] = funding_df['funding payment'].apply(lambda x: x if x >= 0 else 0)\n",
    "funding_df['negative'] = funding_df['funding payment'].apply(lambda x: x if x < 0 else 0)\n",
    "\n",
    "# Sum monthly positive and negative funding payments\n",
    "monthly_funding = funding_df.groupby('month').agg({\n",
    "    'positive': 'sum',\n",
    "    'negative': 'sum'\n",
    "}).reset_index()\n",
    "\n",
    "# Convert 'month' back to a datetime for plotting (use the start of each month)\n",
    "monthly_funding['month'] = monthly_funding['month'].dt.to_timestamp()\n",
    "\n",
    "\n",
    "# Plotting using Plotly\n",
    "fig = go.Figure()\n",
    "\n",
    "# Add bars for positive funding payments\n",
    "fig.add_trace(go.Bar(\n",
    "    x=monthly_funding['month'],\n",
    "    y=monthly_funding['positive'],\n",
    "    name='Positive Funding Payments',\n",
    "    marker_color='green',\n",
    "))\n",
    "\n",
    "# Add bars for negative funding payments\n",
    "fig.add_trace(go.Bar(\n",
    "    x=monthly_funding['month'],\n",
    "    y=monthly_funding['negative'],\n",
    "    name='Negative Funding Payments',\n",
    "    marker_color='red',\n",
    "))\n",
    "\n",
    "\n",
    "\n",
    "# Update layout for the plot\n",
    "fig.update_layout(\n",
    "    title='Monthly Funding Payments with Cumulative Profit',\n",
    "    xaxis_title='Month',\n",
    "    yaxis_title='Funding Payment (USD)',\n",
    "    template='plotly_white',\n",
    "    barmode='relative',  # Allow bars to overlap properly\n",
    "    hovermode='x unified',\n",
    ")\n",
    "\n",
    "# Format x-axis to display months clearly\n",
    "fig.update_xaxes(\n",
    "    tickformat='%b %Y',  # Format to show month (e.g., Jan 2023)\n",
    "    tickangle=45,\n",
    "    showgrid=True,\n",
    ")\n",
    "\n",
    "# Show the plot\n",
    "fig.show()"
   ]
  },
  {
   "cell_type": "code",
   "execution_count": 54,
   "metadata": {},
   "outputs": [],
   "source": [
    "trades_filepath = './results/test/trades_log.csv'\n",
    "trades_df = pd.read_csv(trades_filepath)\n",
    "\n",
    "# Convert 'open_time' and 'close_time' to datetime\n",
    "trades_df['open_time'] = pd.to_datetime(trades_df['open_time'])\n",
    "trades_df['close_time'] = pd.to_datetime(trades_df['close_time'])\n",
    "\n",
    "# Filter for long positions\n",
    "long_trades_df = trades_df[trades_df['position_type'] == 'long']"
   ]
  },
  {
   "cell_type": "code",
   "execution_count": 80,
   "metadata": {},
   "outputs": [
    {
     "name": "stdout",
     "output_type": "stream",
     "text": [
      "exchange\n",
      "okx        1128\n",
      "bybit       353\n",
      "binance     344\n",
      "Name: count, dtype: int64\n"
     ]
    }
   ],
   "source": [
    "trades_filepath = './results/simple_threshold_open/trades_log.csv'\n",
    "trades_df = pd.read_csv(trades_filepath)\n",
    "\n",
    "# Convert 'open_time' and 'close_time' to datetime\n",
    "trades_df['open_time'] = pd.to_datetime(trades_df['open_time'])\n",
    "trades_df['close_time'] = pd.to_datetime(trades_df['close_time'])\n",
    "\n",
    "# Filter for long positions\n",
    "long_trades_df = trades_df[trades_df['position_type'] == 'long']\n",
    "\n",
    "exchange_trade_count = long_trades_df['exchange'].value_counts()\n",
    "\n",
    "# Display the count of trades on each exchange\n",
    "print(exchange_trade_count)"
   ]
  },
  {
   "cell_type": "code",
   "execution_count": null,
   "metadata": {},
   "outputs": [],
   "source": []
  }
 ],
 "metadata": {
  "kernelspec": {
   "display_name": "sklearn0242",
   "language": "python",
   "name": "python3"
  },
  "language_info": {
   "codemirror_mode": {
    "name": "ipython",
    "version": 3
   },
   "file_extension": ".py",
   "mimetype": "text/x-python",
   "name": "python",
   "nbconvert_exporter": "python",
   "pygments_lexer": "ipython3",
   "version": "3.9.18"
  }
 },
 "nbformat": 4,
 "nbformat_minor": 2
}
