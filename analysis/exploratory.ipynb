{
 "cells": [
  {
   "cell_type": "code",
   "execution_count": 1,
   "metadata": {},
   "outputs": [
    {
     "data": {
      "text/plain": [
       "'/Users/aneeshussain/Code/diss/analysis'"
      ]
     },
     "execution_count": 1,
     "metadata": {},
     "output_type": "execute_result"
    }
   ],
   "source": [
    "# %pip install plotly\n",
    "# %pip install nbformat\n",
    "import pandas as pd\n",
    "import matplotlib.pyplot as plt\n",
    "import sys\n",
    "import os\n",
    "import plotly.express as px\n",
    "import plotly.graph_objects as go\n",
    "from plotly.subplots import make_subplots\n",
    "\n",
    "os.getcwd()"
   ]
  },
  {
   "cell_type": "code",
   "execution_count": 2,
   "metadata": {},
   "outputs": [
    {
     "name": "stdout",
     "output_type": "stream",
     "text": [
      "Changed directory to: /Users/aneeshussain/Code/diss\n"
     ]
    }
   ],
   "source": [
    "# Get the current directory\n",
    "current_dir = os.getcwd()\n",
    "\n",
    "# Change directory to the parent directory (diss)\n",
    "parent_dir = os.path.abspath(os.path.join(current_dir, '..'))\n",
    "os.chdir(parent_dir)\n",
    "\n",
    "# Append the parent directory to the system path (optional, if you want to add it to the import path)\n",
    "sys.path.append(parent_dir)\n",
    "\n",
    "# Print the new current working directory to confirm the change\n",
    "print(f\"Changed directory to: {os.getcwd()}\")"
   ]
  },
  {
   "cell_type": "code",
   "execution_count": 3,
   "metadata": {},
   "outputs": [
    {
     "name": "stdout",
     "output_type": "stream",
     "text": [
      "binance Funding stats\n",
      "          positive_count  total_count  positive_percentage\n",
      "BTCUSDCM            1435         1642            87.393423\n",
      "BTCUSDT             1517         1642            92.387333\n",
      "ETHUSDCM            1467         1642            89.342266\n",
      "ETHUSDT             1539         1642            93.727162\n",
      "\n",
      "\n",
      "okx Funding stats\n",
      "          positive_count  total_count  positive_percentage\n",
      "BTCUSDCM            1132         1642            68.940317\n",
      "BTCUSDT             1203         1642            73.264312\n",
      "ETHUSDCM            1163         1642            70.828258\n",
      "ETHUSDT             1226         1642            74.665043\n",
      "\n",
      "\n",
      "bybit Funding stats\n",
      "          positive_count  total_count  positive_percentage\n",
      "BTCUSDCM            1472         1642            89.646772\n",
      "BTCUSDT             1494         1642            90.986602\n",
      "ETHUSDCM            1481         1642            90.194884\n",
      "ETHUSDT             1474         1642            89.768575\n",
      "\n",
      "\n"
     ]
    }
   ],
   "source": [
    "import pandas as pd\n",
    "\n",
    "# Filepaths for each exchange\n",
    "filepaths = {\n",
    "    'binance': './data/processed/binance.csv',\n",
    "    'okx': './data/processed/okx.csv',\n",
    "    'bybit': './data/processed/bybit.csv'\n",
    "}\n",
    "\n",
    "# List of specified pairs\n",
    "specified_pairs = ['BTCUSDCM', 'BTCUSDT', 'ETHUSDCM', 'ETHUSDT']\n",
    "\n",
    "# Initialize a dictionary to store counts for each exchange\n",
    "exchange_funding_stats = {}\n",
    "\n",
    "# Loop through each exchange\n",
    "for exchange, filepath in filepaths.items():\n",
    "    # Load the data for the current exchange\n",
    "    df = pd.read_csv(filepath)\n",
    "\n",
    "    # Convert 'funding rate' to float\n",
    "    df['funding rate'] = pd.to_numeric(df['funding rate'], errors='coerce')\n",
    "\n",
    "    # Filter the DataFrame to only include the specified pairs\n",
    "    filtered_df = df[df['pair'].isin(specified_pairs)]\n",
    "\n",
    "    # Initialize dictionaries to store counts for this exchange\n",
    "    positive_funding_counts = {}\n",
    "    total_funding_counts = {}\n",
    "\n",
    "    # Iterate through each specified pair\n",
    "    for pair in specified_pairs:\n",
    "        # Filter rows for the current pair\n",
    "        pair_df = filtered_df[filtered_df['pair'] == pair]\n",
    "\n",
    "        # Count positive funding rates\n",
    "        positive_count = (pair_df['funding rate'] > 0).sum()\n",
    "        total_count = len(pair_df)\n",
    "\n",
    "        # Store the counts in the dictionaries\n",
    "        positive_funding_counts[pair] = positive_count\n",
    "        total_funding_counts[pair] = total_count\n",
    "\n",
    "    # Create a DataFrame for this exchange to display the counts\n",
    "    funding_stats = pd.DataFrame({\n",
    "        'positive_count': positive_funding_counts,\n",
    "        'total_count': total_funding_counts\n",
    "    })\n",
    "\n",
    "    # Calculate the percentage of positive funding rates\n",
    "    funding_stats['positive_percentage'] = (funding_stats['positive_count'] / funding_stats['total_count']) * 100\n",
    "\n",
    "    # Store the result for this exchange\n",
    "    exchange_funding_stats[exchange] = funding_stats\n",
    "\n",
    "# Display the results for each exchange\n",
    "for exchange, stats in exchange_funding_stats.items():\n",
    "    print(f\"{exchange} Funding stats\")\n",
    "    print(stats)\n",
    "    print(\"\\n\")"
   ]
  },
  {
   "cell_type": "code",
   "execution_count": 72,
   "metadata": {},
   "outputs": [
    {
     "data": {
      "application/vnd.plotly.v1+json": {
       "config": {
        "plotlyServerURL": "https://plot.ly"
       },
       "data": [
        {
         "marker": {
          "color": "green"
         },
         "name": "Positive Funding Payments",
         "type": "bar",
         "x": [
          "2023-01-01T00:00:00",
          "2023-02-01T00:00:00",
          "2023-03-01T00:00:00",
          "2023-04-01T00:00:00",
          "2023-05-01T00:00:00",
          "2023-06-01T00:00:00",
          "2023-07-01T00:00:00",
          "2023-08-01T00:00:00",
          "2023-09-01T00:00:00",
          "2023-10-01T00:00:00",
          "2023-11-01T00:00:00",
          "2023-12-01T00:00:00",
          "2024-01-01T00:00:00",
          "2024-02-01T00:00:00",
          "2024-03-01T00:00:00",
          "2024-04-01T00:00:00",
          "2024-05-01T00:00:00",
          "2024-06-01T00:00:00",
          "2024-07-01T00:00:00"
         ],
         "y": [
          72723.16291639971,
          71042.8746069927,
          50418.53727362,
          40845.36727908679,
          41991.1091094723,
          50230.03212826965,
          45210.43455629277,
          46724.94476847996,
          15819.848199723358,
          42393.03575656923,
          110990.49075936434,
          209743.95379895295,
          125299.22890544489,
          166310.7746130507,
          508109.4261633778,
          108309.54810092214,
          65518.86907438419,
          68336.08058670475,
          841.2019908363492
         ]
        },
        {
         "marker": {
          "color": "red"
         },
         "name": "Negative Funding Payments",
         "type": "bar",
         "x": [
          "2023-01-01T00:00:00",
          "2023-02-01T00:00:00",
          "2023-03-01T00:00:00",
          "2023-04-01T00:00:00",
          "2023-05-01T00:00:00",
          "2023-06-01T00:00:00",
          "2023-07-01T00:00:00",
          "2023-08-01T00:00:00",
          "2023-09-01T00:00:00",
          "2023-10-01T00:00:00",
          "2023-11-01T00:00:00",
          "2023-12-01T00:00:00",
          "2024-01-01T00:00:00",
          "2024-02-01T00:00:00",
          "2024-03-01T00:00:00",
          "2024-04-01T00:00:00",
          "2024-05-01T00:00:00",
          "2024-06-01T00:00:00",
          "2024-07-01T00:00:00"
         ],
         "y": [
          -1883.339465648383,
          -1811.1401598157013,
          -8623.604710385745,
          -5011.485176022261,
          -4365.442311059934,
          -2907.052193473473,
          -3255.21415303373,
          -5304.256153503632,
          -4440.756666826251,
          -2750.3640095615915,
          -1058.0430188956227,
          -283.8674123006697,
          -2131.8120212342724,
          -740.7281303255544,
          -129.7964835961461,
          -4095.985393518848,
          -1421.513275191739,
          -1548.0365181553425,
          -57.98640073371824
         ]
        }
       ],
       "layout": {
        "barmode": "relative",
        "hovermode": "x unified",
        "template": {
         "data": {
          "bar": [
           {
            "error_x": {
             "color": "#2a3f5f"
            },
            "error_y": {
             "color": "#2a3f5f"
            },
            "marker": {
             "line": {
              "color": "white",
              "width": 0.5
             },
             "pattern": {
              "fillmode": "overlay",
              "size": 10,
              "solidity": 0.2
             }
            },
            "type": "bar"
           }
          ],
          "barpolar": [
           {
            "marker": {
             "line": {
              "color": "white",
              "width": 0.5
             },
             "pattern": {
              "fillmode": "overlay",
              "size": 10,
              "solidity": 0.2
             }
            },
            "type": "barpolar"
           }
          ],
          "carpet": [
           {
            "aaxis": {
             "endlinecolor": "#2a3f5f",
             "gridcolor": "#C8D4E3",
             "linecolor": "#C8D4E3",
             "minorgridcolor": "#C8D4E3",
             "startlinecolor": "#2a3f5f"
            },
            "baxis": {
             "endlinecolor": "#2a3f5f",
             "gridcolor": "#C8D4E3",
             "linecolor": "#C8D4E3",
             "minorgridcolor": "#C8D4E3",
             "startlinecolor": "#2a3f5f"
            },
            "type": "carpet"
           }
          ],
          "choropleth": [
           {
            "colorbar": {
             "outlinewidth": 0,
             "ticks": ""
            },
            "type": "choropleth"
           }
          ],
          "contour": [
           {
            "colorbar": {
             "outlinewidth": 0,
             "ticks": ""
            },
            "colorscale": [
             [
              0,
              "#0d0887"
             ],
             [
              0.1111111111111111,
              "#46039f"
             ],
             [
              0.2222222222222222,
              "#7201a8"
             ],
             [
              0.3333333333333333,
              "#9c179e"
             ],
             [
              0.4444444444444444,
              "#bd3786"
             ],
             [
              0.5555555555555556,
              "#d8576b"
             ],
             [
              0.6666666666666666,
              "#ed7953"
             ],
             [
              0.7777777777777778,
              "#fb9f3a"
             ],
             [
              0.8888888888888888,
              "#fdca26"
             ],
             [
              1,
              "#f0f921"
             ]
            ],
            "type": "contour"
           }
          ],
          "contourcarpet": [
           {
            "colorbar": {
             "outlinewidth": 0,
             "ticks": ""
            },
            "type": "contourcarpet"
           }
          ],
          "heatmap": [
           {
            "colorbar": {
             "outlinewidth": 0,
             "ticks": ""
            },
            "colorscale": [
             [
              0,
              "#0d0887"
             ],
             [
              0.1111111111111111,
              "#46039f"
             ],
             [
              0.2222222222222222,
              "#7201a8"
             ],
             [
              0.3333333333333333,
              "#9c179e"
             ],
             [
              0.4444444444444444,
              "#bd3786"
             ],
             [
              0.5555555555555556,
              "#d8576b"
             ],
             [
              0.6666666666666666,
              "#ed7953"
             ],
             [
              0.7777777777777778,
              "#fb9f3a"
             ],
             [
              0.8888888888888888,
              "#fdca26"
             ],
             [
              1,
              "#f0f921"
             ]
            ],
            "type": "heatmap"
           }
          ],
          "heatmapgl": [
           {
            "colorbar": {
             "outlinewidth": 0,
             "ticks": ""
            },
            "colorscale": [
             [
              0,
              "#0d0887"
             ],
             [
              0.1111111111111111,
              "#46039f"
             ],
             [
              0.2222222222222222,
              "#7201a8"
             ],
             [
              0.3333333333333333,
              "#9c179e"
             ],
             [
              0.4444444444444444,
              "#bd3786"
             ],
             [
              0.5555555555555556,
              "#d8576b"
             ],
             [
              0.6666666666666666,
              "#ed7953"
             ],
             [
              0.7777777777777778,
              "#fb9f3a"
             ],
             [
              0.8888888888888888,
              "#fdca26"
             ],
             [
              1,
              "#f0f921"
             ]
            ],
            "type": "heatmapgl"
           }
          ],
          "histogram": [
           {
            "marker": {
             "pattern": {
              "fillmode": "overlay",
              "size": 10,
              "solidity": 0.2
             }
            },
            "type": "histogram"
           }
          ],
          "histogram2d": [
           {
            "colorbar": {
             "outlinewidth": 0,
             "ticks": ""
            },
            "colorscale": [
             [
              0,
              "#0d0887"
             ],
             [
              0.1111111111111111,
              "#46039f"
             ],
             [
              0.2222222222222222,
              "#7201a8"
             ],
             [
              0.3333333333333333,
              "#9c179e"
             ],
             [
              0.4444444444444444,
              "#bd3786"
             ],
             [
              0.5555555555555556,
              "#d8576b"
             ],
             [
              0.6666666666666666,
              "#ed7953"
             ],
             [
              0.7777777777777778,
              "#fb9f3a"
             ],
             [
              0.8888888888888888,
              "#fdca26"
             ],
             [
              1,
              "#f0f921"
             ]
            ],
            "type": "histogram2d"
           }
          ],
          "histogram2dcontour": [
           {
            "colorbar": {
             "outlinewidth": 0,
             "ticks": ""
            },
            "colorscale": [
             [
              0,
              "#0d0887"
             ],
             [
              0.1111111111111111,
              "#46039f"
             ],
             [
              0.2222222222222222,
              "#7201a8"
             ],
             [
              0.3333333333333333,
              "#9c179e"
             ],
             [
              0.4444444444444444,
              "#bd3786"
             ],
             [
              0.5555555555555556,
              "#d8576b"
             ],
             [
              0.6666666666666666,
              "#ed7953"
             ],
             [
              0.7777777777777778,
              "#fb9f3a"
             ],
             [
              0.8888888888888888,
              "#fdca26"
             ],
             [
              1,
              "#f0f921"
             ]
            ],
            "type": "histogram2dcontour"
           }
          ],
          "mesh3d": [
           {
            "colorbar": {
             "outlinewidth": 0,
             "ticks": ""
            },
            "type": "mesh3d"
           }
          ],
          "parcoords": [
           {
            "line": {
             "colorbar": {
              "outlinewidth": 0,
              "ticks": ""
             }
            },
            "type": "parcoords"
           }
          ],
          "pie": [
           {
            "automargin": true,
            "type": "pie"
           }
          ],
          "scatter": [
           {
            "fillpattern": {
             "fillmode": "overlay",
             "size": 10,
             "solidity": 0.2
            },
            "type": "scatter"
           }
          ],
          "scatter3d": [
           {
            "line": {
             "colorbar": {
              "outlinewidth": 0,
              "ticks": ""
             }
            },
            "marker": {
             "colorbar": {
              "outlinewidth": 0,
              "ticks": ""
             }
            },
            "type": "scatter3d"
           }
          ],
          "scattercarpet": [
           {
            "marker": {
             "colorbar": {
              "outlinewidth": 0,
              "ticks": ""
             }
            },
            "type": "scattercarpet"
           }
          ],
          "scattergeo": [
           {
            "marker": {
             "colorbar": {
              "outlinewidth": 0,
              "ticks": ""
             }
            },
            "type": "scattergeo"
           }
          ],
          "scattergl": [
           {
            "marker": {
             "colorbar": {
              "outlinewidth": 0,
              "ticks": ""
             }
            },
            "type": "scattergl"
           }
          ],
          "scattermapbox": [
           {
            "marker": {
             "colorbar": {
              "outlinewidth": 0,
              "ticks": ""
             }
            },
            "type": "scattermapbox"
           }
          ],
          "scatterpolar": [
           {
            "marker": {
             "colorbar": {
              "outlinewidth": 0,
              "ticks": ""
             }
            },
            "type": "scatterpolar"
           }
          ],
          "scatterpolargl": [
           {
            "marker": {
             "colorbar": {
              "outlinewidth": 0,
              "ticks": ""
             }
            },
            "type": "scatterpolargl"
           }
          ],
          "scatterternary": [
           {
            "marker": {
             "colorbar": {
              "outlinewidth": 0,
              "ticks": ""
             }
            },
            "type": "scatterternary"
           }
          ],
          "surface": [
           {
            "colorbar": {
             "outlinewidth": 0,
             "ticks": ""
            },
            "colorscale": [
             [
              0,
              "#0d0887"
             ],
             [
              0.1111111111111111,
              "#46039f"
             ],
             [
              0.2222222222222222,
              "#7201a8"
             ],
             [
              0.3333333333333333,
              "#9c179e"
             ],
             [
              0.4444444444444444,
              "#bd3786"
             ],
             [
              0.5555555555555556,
              "#d8576b"
             ],
             [
              0.6666666666666666,
              "#ed7953"
             ],
             [
              0.7777777777777778,
              "#fb9f3a"
             ],
             [
              0.8888888888888888,
              "#fdca26"
             ],
             [
              1,
              "#f0f921"
             ]
            ],
            "type": "surface"
           }
          ],
          "table": [
           {
            "cells": {
             "fill": {
              "color": "#EBF0F8"
             },
             "line": {
              "color": "white"
             }
            },
            "header": {
             "fill": {
              "color": "#C8D4E3"
             },
             "line": {
              "color": "white"
             }
            },
            "type": "table"
           }
          ]
         },
         "layout": {
          "annotationdefaults": {
           "arrowcolor": "#2a3f5f",
           "arrowhead": 0,
           "arrowwidth": 1
          },
          "autotypenumbers": "strict",
          "coloraxis": {
           "colorbar": {
            "outlinewidth": 0,
            "ticks": ""
           }
          },
          "colorscale": {
           "diverging": [
            [
             0,
             "#8e0152"
            ],
            [
             0.1,
             "#c51b7d"
            ],
            [
             0.2,
             "#de77ae"
            ],
            [
             0.3,
             "#f1b6da"
            ],
            [
             0.4,
             "#fde0ef"
            ],
            [
             0.5,
             "#f7f7f7"
            ],
            [
             0.6,
             "#e6f5d0"
            ],
            [
             0.7,
             "#b8e186"
            ],
            [
             0.8,
             "#7fbc41"
            ],
            [
             0.9,
             "#4d9221"
            ],
            [
             1,
             "#276419"
            ]
           ],
           "sequential": [
            [
             0,
             "#0d0887"
            ],
            [
             0.1111111111111111,
             "#46039f"
            ],
            [
             0.2222222222222222,
             "#7201a8"
            ],
            [
             0.3333333333333333,
             "#9c179e"
            ],
            [
             0.4444444444444444,
             "#bd3786"
            ],
            [
             0.5555555555555556,
             "#d8576b"
            ],
            [
             0.6666666666666666,
             "#ed7953"
            ],
            [
             0.7777777777777778,
             "#fb9f3a"
            ],
            [
             0.8888888888888888,
             "#fdca26"
            ],
            [
             1,
             "#f0f921"
            ]
           ],
           "sequentialminus": [
            [
             0,
             "#0d0887"
            ],
            [
             0.1111111111111111,
             "#46039f"
            ],
            [
             0.2222222222222222,
             "#7201a8"
            ],
            [
             0.3333333333333333,
             "#9c179e"
            ],
            [
             0.4444444444444444,
             "#bd3786"
            ],
            [
             0.5555555555555556,
             "#d8576b"
            ],
            [
             0.6666666666666666,
             "#ed7953"
            ],
            [
             0.7777777777777778,
             "#fb9f3a"
            ],
            [
             0.8888888888888888,
             "#fdca26"
            ],
            [
             1,
             "#f0f921"
            ]
           ]
          },
          "colorway": [
           "#636efa",
           "#EF553B",
           "#00cc96",
           "#ab63fa",
           "#FFA15A",
           "#19d3f3",
           "#FF6692",
           "#B6E880",
           "#FF97FF",
           "#FECB52"
          ],
          "font": {
           "color": "#2a3f5f"
          },
          "geo": {
           "bgcolor": "white",
           "lakecolor": "white",
           "landcolor": "white",
           "showlakes": true,
           "showland": true,
           "subunitcolor": "#C8D4E3"
          },
          "hoverlabel": {
           "align": "left"
          },
          "hovermode": "closest",
          "mapbox": {
           "style": "light"
          },
          "paper_bgcolor": "white",
          "plot_bgcolor": "white",
          "polar": {
           "angularaxis": {
            "gridcolor": "#EBF0F8",
            "linecolor": "#EBF0F8",
            "ticks": ""
           },
           "bgcolor": "white",
           "radialaxis": {
            "gridcolor": "#EBF0F8",
            "linecolor": "#EBF0F8",
            "ticks": ""
           }
          },
          "scene": {
           "xaxis": {
            "backgroundcolor": "white",
            "gridcolor": "#DFE8F3",
            "gridwidth": 2,
            "linecolor": "#EBF0F8",
            "showbackground": true,
            "ticks": "",
            "zerolinecolor": "#EBF0F8"
           },
           "yaxis": {
            "backgroundcolor": "white",
            "gridcolor": "#DFE8F3",
            "gridwidth": 2,
            "linecolor": "#EBF0F8",
            "showbackground": true,
            "ticks": "",
            "zerolinecolor": "#EBF0F8"
           },
           "zaxis": {
            "backgroundcolor": "white",
            "gridcolor": "#DFE8F3",
            "gridwidth": 2,
            "linecolor": "#EBF0F8",
            "showbackground": true,
            "ticks": "",
            "zerolinecolor": "#EBF0F8"
           }
          },
          "shapedefaults": {
           "line": {
            "color": "#2a3f5f"
           }
          },
          "ternary": {
           "aaxis": {
            "gridcolor": "#DFE8F3",
            "linecolor": "#A2B1C6",
            "ticks": ""
           },
           "baxis": {
            "gridcolor": "#DFE8F3",
            "linecolor": "#A2B1C6",
            "ticks": ""
           },
           "bgcolor": "white",
           "caxis": {
            "gridcolor": "#DFE8F3",
            "linecolor": "#A2B1C6",
            "ticks": ""
           }
          },
          "title": {
           "x": 0.05
          },
          "xaxis": {
           "automargin": true,
           "gridcolor": "#EBF0F8",
           "linecolor": "#EBF0F8",
           "ticks": "",
           "title": {
            "standoff": 15
           },
           "zerolinecolor": "#EBF0F8",
           "zerolinewidth": 2
          },
          "yaxis": {
           "automargin": true,
           "gridcolor": "#EBF0F8",
           "linecolor": "#EBF0F8",
           "ticks": "",
           "title": {
            "standoff": 15
           },
           "zerolinecolor": "#EBF0F8",
           "zerolinewidth": 2
          }
         }
        },
        "title": {
         "text": "Monthly Funding Payments with Cumulative Profit"
        },
        "xaxis": {
         "showgrid": true,
         "tickangle": 45,
         "tickformat": "%b %Y",
         "title": {
          "text": "Month"
         }
        },
        "yaxis": {
         "title": {
          "text": "Funding Payment (USD)"
         }
        }
       }
      }
     },
     "metadata": {},
     "output_type": "display_data"
    }
   ],
   "source": [
    "funding_filepath = './results/test/funding_log.csv' \n",
    "funding_df = pd.read_csv(funding_filepath)\n",
    "\n",
    "# Convert 'time' to datetime format\n",
    "funding_df['time'] = pd.to_datetime(funding_df['time'])\n",
    "\n",
    "# Extract the month to aggregate funding payments\n",
    "funding_df['month'] = funding_df['time'].dt.to_period('M')\n",
    "\n",
    "# Calculate cumulative profit over time (using the original 'funding payment' column)\n",
    "funding_df['cumulative_profit'] = funding_df['funding payment'].cumsum()\n",
    "\n",
    "# Aggregate monthly funding payments for cumulative profit\n",
    "monthly_cumulative_profit = funding_df.groupby('month')['cumulative_profit'].last().reset_index()\n",
    "\n",
    "# Separate positive and negative funding payments before aggregation\n",
    "funding_df['positive'] = funding_df['funding payment'].apply(lambda x: x if x >= 0 else 0)\n",
    "funding_df['negative'] = funding_df['funding payment'].apply(lambda x: x if x < 0 else 0)\n",
    "\n",
    "# Sum monthly positive and negative funding payments\n",
    "monthly_funding = funding_df.groupby('month').agg({\n",
    "    'positive': 'sum',\n",
    "    'negative': 'sum'\n",
    "}).reset_index()\n",
    "\n",
    "# Convert 'month' back to a datetime for plotting (use the start of each month)\n",
    "monthly_funding['month'] = monthly_funding['month'].dt.to_timestamp()\n",
    "\n",
    "\n",
    "# Plotting using Plotly\n",
    "fig = go.Figure()\n",
    "\n",
    "# Add bars for positive funding payments\n",
    "fig.add_trace(go.Bar(\n",
    "    x=monthly_funding['month'],\n",
    "    y=monthly_funding['positive'],\n",
    "    name='Positive Funding Payments',\n",
    "    marker_color='green',\n",
    "))\n",
    "\n",
    "# Add bars for negative funding payments\n",
    "fig.add_trace(go.Bar(\n",
    "    x=monthly_funding['month'],\n",
    "    y=monthly_funding['negative'],\n",
    "    name='Negative Funding Payments',\n",
    "    marker_color='red',\n",
    "))\n",
    "\n",
    "\n",
    "\n",
    "# Update layout for the plot\n",
    "fig.update_layout(\n",
    "    title='Monthly Funding Payments with Cumulative Profit',\n",
    "    xaxis_title='Month',\n",
    "    yaxis_title='Funding Payment (USD)',\n",
    "    template='plotly_white',\n",
    "    barmode='relative',  # Allow bars to overlap properly\n",
    "    hovermode='x unified',\n",
    ")\n",
    "\n",
    "# Format x-axis to display months clearly\n",
    "fig.update_xaxes(\n",
    "    tickformat='%b %Y',  # Format to show month (e.g., Jan 2023)\n",
    "    tickangle=45,\n",
    "    showgrid=True,\n",
    ")\n",
    "\n",
    "# Show the plot\n",
    "fig.show()"
   ]
  },
  {
   "cell_type": "code",
   "execution_count": 80,
   "metadata": {},
   "outputs": [
    {
     "name": "stdout",
     "output_type": "stream",
     "text": [
      "exchange\n",
      "okx        1128\n",
      "bybit       353\n",
      "binance     344\n",
      "Name: count, dtype: int64\n"
     ]
    }
   ],
   "source": [
    "trades_filepath = './results/simple_threshold_open/trades_log.csv'\n",
    "trades_df = pd.read_csv(trades_filepath)\n",
    "\n",
    "# Convert 'open_time' and 'close_time' to datetime\n",
    "trades_df['open_time'] = pd.to_datetime(trades_df['open_time'])\n",
    "trades_df['close_time'] = pd.to_datetime(trades_df['close_time'])\n",
    "\n",
    "# Filter for long positions\n",
    "long_trades_df = trades_df[trades_df['position_type'] == 'long']\n",
    "\n",
    "exchange_trade_count = long_trades_df['exchange'].value_counts()\n",
    "\n",
    "# Display the count of trades on each exchange\n",
    "print(exchange_trade_count)"
   ]
  },
  {
   "cell_type": "code",
   "execution_count": 31,
   "metadata": {},
   "outputs": [
    {
     "data": {
      "image/png": "[encoded data removed]",
      "text/plain": [
       "<Figure size 1200x600 with 1 Axes>"
      ]
     },
     "metadata": {},
     "output_type": "display_data"
    }
   ],
   "source": [
    "import matplotlib.pyplot as plt\n",
    "\n",
    "yield_filepath = './results/test/yield.csv'\n",
    "yield_df = pd.read_csv(yield_filepath)\n",
    "\n",
    "# Calculate the total yield by summing the individual yields for each date\n",
    "yield_df['total_yield'] = (\n",
    "    yield_df['binance_btc_yield'] + \n",
    "    yield_df['binance_eth_yield'] + \n",
    "    yield_df['bybit_btc_yield'] + \n",
    "    yield_df['bybit_eth_yield'] + \n",
    "    yield_df['okx_btc_yield'] + \n",
    "    yield_df['okx_eth_yield']\n",
    ")\n",
    "\n",
    "# Plot the total perpetual yield\n",
    "plt.figure(figsize=(12, 6))\n",
    "\n",
    "plt.plot(yield_df['date'], yield_df['total_yield'] * 100, label='Avg Yield')\n",
    "\n",
    "# Add labels and title\n",
    "plt.xlabel('Date')\n",
    "plt.ylabel('Total Yield (%)')\n",
    "plt.title('Daily Total Perpetual Yield')\n",
    "plt.legend()\n",
    "plt.xticks(rotation=45)\n",
    "plt.tight_layout()\n",
    "\n",
    "# Show the plot\n",
    "plt.show()"
   ]
  },
  {
   "cell_type": "code",
   "execution_count": 35,
   "metadata": {},
   "outputs": [
    {
     "data": {
      "image/png": "[encoded data removed]",
      "text/plain": [
       "<Figure size 1200x600 with 1 Axes>"
      ]
     },
     "metadata": {},
     "output_type": "display_data"
    }
   ],
   "source": [
    "import matplotlib.pyplot as plt\n",
    "\n",
    "yield_filepath = './results/test/yield.csv'\n",
    "yield_df = pd.read_csv(yield_filepath)\n",
    "\n",
    "\n",
    "plt.figure(figsize=(12, 6))\n",
    "\n",
    "plt.plot(yield_df['date'], yield_df['binance_total_yield'] / 0.6 , label='Binance Yield')\n",
    "plt.plot(yield_df['date'], yield_df['bybit_total_yield'] / 0.2, label='Bybit Yield')\n",
    "plt.plot(yield_df['date'], yield_df['okx_total_yield'] / 0.2, label='OKX Yield')\n",
    "\n",
    "# Add labels and title\n",
    "plt.xlabel('Date')\n",
    "plt.ylabel('Total Yield (%)')\n",
    "plt.title('Daily Total Perpetual Yield')\n",
    "plt.legend()\n",
    "plt.xticks(rotation=45)\n",
    "plt.tight_layout()\n",
    "\n",
    "# Show the plot\n",
    "plt.show()"
   ]
  },
  {
   "cell_type": "code",
   "execution_count": 36,
   "metadata": {},
   "outputs": [
    {
     "data": {
      "image/png": "[encoded data removed]",
      "text/plain": [
       "<Figure size 1400x800 with 1 Axes>"
      ]
     },
     "metadata": {},
     "output_type": "display_data"
    }
   ],
   "source": [
    "import matplotlib.pyplot as plt\n",
    "import pandas as pd\n",
    "\n",
    "yield_filepath = './results/test/yield.csv'\n",
    "yield_df = pd.read_csv(yield_filepath)\n",
    "\n",
    "# Convert 'date' to datetime\n",
    "yield_df['date'] = pd.to_datetime(yield_df['date'])\n",
    "\n",
    "# Calculate a 30-day rolling average for each yield column\n",
    "columns_to_average = [\n",
    "    'binance_btcusd_yield', 'binance_btccm_yield', 'binance_ethusd_yield', 'binance_ethcm_yield',\n",
    "    'bybit_btcusd_yield', 'bybit_btccm_yield', 'bybit_ethusd_yield', 'bybit_ethcm_yield',\n",
    "    'okx_btcusd_yield', 'okx_btccm_yield', 'okx_ethusd_yield', 'okx_ethcm_yield'\n",
    "]\n",
    "\n",
    "for column in columns_to_average:\n",
    "    yield_df[f'{column}_rolling'] = yield_df[column].rolling(window=30).mean()\n",
    "\n",
    "plt.figure(figsize=(14, 8))\n",
    "\n",
    "# Plot the yields for each exchange and asset type\n",
    "for column in columns_to_average:\n",
    "    # plt.plot(yield_df['date'], yield_df[column], label=f'{column.replace(\"_\", \" \").title()}')\n",
    "    plt.plot(yield_df['date'], yield_df[f'{column}_rolling'], linestyle='--', label=f'{column.replace(\"_\", \" \").title()} (30-Day Avg)')\n",
    "\n",
    "# Add labels and title\n",
    "plt.xlabel('Date')\n",
    "plt.ylabel('Yield (%)')\n",
    "plt.title('Daily Perpetual Yield and 30-Day Rolling Average for Each Exchange and Asset Type')\n",
    "plt.legend(loc='upper left', bbox_to_anchor=(1, 1), ncol=1)\n",
    "plt.xticks(rotation=45)\n",
    "plt.tight_layout()\n",
    "\n",
    "# Show the plot\n",
    "plt.show()"
   ]
  },
  {
   "cell_type": "code",
   "execution_count": 51,
   "metadata": {},
   "outputs": [
    {
     "data": {
      "application/vnd.plotly.v1+json": {
       "config": {
        "plotlyServerURL": "https://plot.ly"
       },
       "data": [
        {
         "marker": {
          "color": "green"
         },
         "name": "Position Opened",
         "opacity": 1,
         "type": "bar",
         "x": [
          "2023-01-01T00:00:00",
          "2023-01-02T00:00:00",
          "2023-01-04T00:00:00",
          "2023-01-06T00:00:00",
          "2023-01-08T00:00:00",
          "2023-01-09T00:00:00",
          "2023-01-10T00:00:00",
          "2023-01-11T00:00:00",
          "2023-01-12T00:00:00",
          "2023-01-13T00:00:00",
          "2023-01-14T00:00:00",
          "2023-01-15T00:00:00",
          "2023-01-16T00:00:00",
          "2023-01-18T00:00:00",
          "2023-01-19T00:00:00",
          "2023-01-20T00:00:00",
          "2023-01-21T00:00:00",
          "2023-01-22T00:00:00",
          "2023-01-24T00:00:00",
          "2023-01-26T00:00:00",
          "2023-01-27T00:00:00",
          "2023-01-28T00:00:00",
          "2023-01-29T00:00:00",
          "2023-01-31T00:00:00",
          "2023-02-01T00:00:00",
          "2023-02-04T00:00:00",
          "2023-02-05T00:00:00",
          "2023-02-06T00:00:00",
          "2023-02-07T00:00:00",
          "2023-02-08T00:00:00",
          "2023-02-10T00:00:00",
          "2023-02-11T00:00:00",
          "2023-02-12T00:00:00",
          "2023-02-13T00:00:00",
          "2023-02-14T00:00:00",
          "2023-02-15T00:00:00",
          "2023-02-16T00:00:00",
          "2023-02-18T00:00:00",
          "2023-02-19T00:00:00",
          "2023-02-20T00:00:00",
          "2023-02-21T00:00:00",
          "2023-02-22T00:00:00",
          "2023-02-23T00:00:00",
          "2023-02-24T00:00:00",
          "2023-02-26T00:00:00",
          "2023-02-27T00:00:00",
          "2023-02-28T00:00:00",
          "2023-03-01T00:00:00",
          "2023-03-02T00:00:00",
          "2023-03-03T00:00:00",
          "2023-03-04T00:00:00",
          "2023-03-05T00:00:00",
          "2023-03-06T00:00:00",
          "2023-03-07T00:00:00",
          "2023-03-08T00:00:00",
          "2023-03-09T00:00:00",
          "2023-03-10T00:00:00",
          "2023-03-11T00:00:00",
          "2023-03-12T00:00:00",
          "2023-03-13T00:00:00",
          "2023-03-14T00:00:00",
          "2023-03-15T00:00:00",
          "2023-03-16T00:00:00",
          "2023-03-17T00:00:00",
          "2023-03-18T00:00:00",
          "2023-03-19T00:00:00",
          "2023-03-20T00:00:00",
          "2023-03-21T00:00:00",
          "2023-03-22T00:00:00",
          "2023-03-23T00:00:00",
          "2023-03-24T00:00:00",
          "2023-03-25T00:00:00",
          "2023-03-26T00:00:00",
          "2023-03-27T00:00:00",
          "2023-03-28T00:00:00",
          "2023-03-29T00:00:00",
          "2023-03-30T00:00:00",
          "2023-03-31T00:00:00",
          "2023-04-01T00:00:00",
          "2023-04-02T00:00:00",
          "2023-04-03T00:00:00",
          "2023-04-04T00:00:00",
          "2023-04-05T00:00:00",
          "2023-04-06T00:00:00",
          "2023-04-07T00:00:00",
          "2023-04-08T00:00:00",
          "2023-04-09T00:00:00",
          "2023-04-10T00:00:00",
          "2023-04-11T00:00:00",
          "2023-04-12T00:00:00",
          "2023-04-13T00:00:00",
          "2023-04-14T00:00:00",
          "2023-04-15T00:00:00",
          "2023-04-16T00:00:00",
          "2023-04-17T00:00:00",
          "2023-04-18T00:00:00",
          "2023-04-19T00:00:00",
          "2023-04-20T00:00:00",
          "2023-04-21T00:00:00",
          "2023-04-22T00:00:00",
          "2023-04-23T00:00:00",
          "2023-04-24T00:00:00",
          "2023-04-25T00:00:00",
          "2023-04-26T00:00:00",
          "2023-04-27T00:00:00",
          "2023-04-28T00:00:00",
          "2023-04-29T00:00:00",
          "2023-04-30T00:00:00",
          "2023-05-01T00:00:00",
          "2023-05-02T00:00:00",
          "2023-05-03T00:00:00",
          "2023-05-04T00:00:00",
          "2023-05-05T00:00:00",
          "2023-05-06T00:00:00",
          "2023-05-07T00:00:00",
          "2023-05-08T00:00:00",
          "2023-05-09T00:00:00",
          "2023-05-10T00:00:00",
          "2023-05-11T00:00:00",
          "2023-05-12T00:00:00",
          "2023-05-13T00:00:00",
          "2023-05-14T00:00:00",
          "2023-05-15T00:00:00",
          "2023-05-16T00:00:00",
          "2023-05-17T00:00:00",
          "2023-05-18T00:00:00",
          "2023-05-19T00:00:00",
          "2023-05-20T00:00:00",
          "2023-05-21T00:00:00",
          "2023-05-22T00:00:00",
          "2023-05-23T00:00:00",
          "2023-05-24T00:00:00",
          "2023-05-25T00:00:00",
          "2023-05-26T00:00:00",
          "2023-05-27T00:00:00",
          "2023-05-28T00:00:00",
          "2023-05-29T00:00:00",
          "2023-05-30T00:00:00",
          "2023-05-31T00:00:00",
          "2023-06-01T00:00:00",
          "2023-06-02T00:00:00",
          "2023-06-03T00:00:00",
          "2023-06-04T00:00:00",
          "2023-06-05T00:00:00",
          "2023-06-06T00:00:00",
          "2023-06-07T00:00:00",
          "2023-06-08T00:00:00",
          "2023-06-09T00:00:00",
          "2023-06-10T00:00:00",
          "2023-06-11T00:00:00",
          "2023-06-12T00:00:00",
          "2023-06-13T00:00:00",
          "2023-06-14T00:00:00",
          "2023-06-15T00:00:00",
          "2023-06-16T00:00:00",
          "2023-06-17T00:00:00",
          "2023-06-18T00:00:00",
          "2023-06-19T00:00:00",
          "2023-06-20T00:00:00",
          "2023-06-21T00:00:00",
          "2023-06-22T00:00:00",
          "2023-06-23T00:00:00",
          "2023-06-24T00:00:00",
          "2023-06-25T00:00:00",
          "2023-06-26T00:00:00",
          "2023-06-27T00:00:00",
          "2023-06-28T00:00:00",
          "2023-06-29T00:00:00",
          "2023-07-01T00:00:00",
          "2023-07-02T00:00:00",
          "2023-07-04T00:00:00",
          "2023-07-05T00:00:00",
          "2023-07-06T00:00:00",
          "2023-07-07T00:00:00",
          "2023-07-08T00:00:00",
          "2023-07-09T00:00:00",
          "2023-07-10T00:00:00",
          "2023-07-11T00:00:00",
          "2023-07-12T00:00:00",
          "2023-07-13T00:00:00",
          "2023-07-14T00:00:00",
          "2023-07-15T00:00:00",
          "2023-07-16T00:00:00",
          "2023-07-17T00:00:00",
          "2023-07-18T00:00:00",
          "2023-07-19T00:00:00",
          "2023-07-20T00:00:00",
          "2023-07-21T00:00:00",
          "2023-07-22T00:00:00",
          "2023-07-23T00:00:00",
          "2023-07-24T00:00:00",
          "2023-07-25T00:00:00",
          "2023-07-26T00:00:00",
          "2023-07-27T00:00:00",
          "2023-07-28T00:00:00",
          "2023-07-29T00:00:00",
          "2023-07-30T00:00:00",
          "2023-07-31T00:00:00",
          "2023-08-01T00:00:00",
          "2023-08-02T00:00:00",
          "2023-08-03T00:00:00",
          "2023-08-04T00:00:00",
          "2023-08-09T00:00:00",
          "2023-08-10T00:00:00",
          "2023-08-12T00:00:00",
          "2023-08-13T00:00:00",
          "2023-08-14T00:00:00",
          "2023-08-15T00:00:00",
          "2023-08-18T00:00:00",
          "2023-08-19T00:00:00",
          "2023-08-20T00:00:00",
          "2023-08-21T00:00:00",
          "2023-08-22T00:00:00",
          "2023-08-23T00:00:00",
          "2023-08-24T00:00:00",
          "2023-08-25T00:00:00",
          "2023-08-26T00:00:00",
          "2023-08-27T00:00:00",
          "2023-08-28T00:00:00",
          "2023-08-29T00:00:00",
          "2023-08-30T00:00:00",
          "2023-08-31T00:00:00",
          "2023-09-01T00:00:00",
          "2023-09-02T00:00:00",
          "2023-09-03T00:00:00",
          "2023-09-04T00:00:00",
          "2023-09-05T00:00:00",
          "2023-09-06T00:00:00",
          "2023-09-07T00:00:00",
          "2023-09-08T00:00:00",
          "2023-09-09T00:00:00",
          "2023-09-10T00:00:00",
          "2023-09-11T00:00:00",
          "2023-09-12T00:00:00",
          "2023-09-13T00:00:00",
          "2023-09-14T00:00:00",
          "2023-09-15T00:00:00",
          "2023-09-16T00:00:00",
          "2023-09-17T00:00:00",
          "2023-09-18T00:00:00",
          "2023-09-19T00:00:00",
          "2023-09-20T00:00:00",
          "2023-09-21T00:00:00",
          "2023-09-22T00:00:00",
          "2023-09-23T00:00:00",
          "2023-09-24T00:00:00",
          "2023-09-25T00:00:00",
          "2023-09-26T00:00:00",
          "2023-09-27T00:00:00",
          "2023-09-28T00:00:00",
          "2023-09-29T00:00:00",
          "2023-09-30T00:00:00",
          "2023-10-01T00:00:00",
          "2023-10-02T00:00:00",
          "2023-10-03T00:00:00",
          "2023-10-04T00:00:00",
          "2023-10-05T00:00:00",
          "2023-10-06T00:00:00",
          "2023-10-07T00:00:00",
          "2023-10-08T00:00:00",
          "2023-10-09T00:00:00",
          "2023-10-10T00:00:00",
          "2023-10-11T00:00:00",
          "2023-10-12T00:00:00",
          "2023-10-13T00:00:00",
          "2023-10-14T00:00:00",
          "2023-10-15T00:00:00",
          "2023-10-16T00:00:00",
          "2023-10-17T00:00:00",
          "2023-10-18T00:00:00",
          "2023-10-19T00:00:00",
          "2023-10-20T00:00:00",
          "2023-10-21T00:00:00",
          "2023-10-22T00:00:00",
          "2023-10-23T00:00:00",
          "2023-10-24T00:00:00",
          "2023-10-25T00:00:00",
          "2023-10-26T00:00:00",
          "2023-10-29T00:00:00",
          "2023-10-30T00:00:00",
          "2023-10-31T00:00:00",
          "2023-11-01T00:00:00",
          "2023-11-03T00:00:00",
          "2023-11-04T00:00:00",
          "2023-11-05T00:00:00",
          "2023-11-06T00:00:00",
          "2023-11-07T00:00:00",
          "2023-11-08T00:00:00",
          "2023-11-11T00:00:00",
          "2023-11-12T00:00:00",
          "2023-11-14T00:00:00",
          "2023-11-15T00:00:00",
          "2023-11-16T00:00:00",
          "2023-11-18T00:00:00",
          "2023-11-19T00:00:00",
          "2023-11-20T00:00:00",
          "2023-11-22T00:00:00",
          "2023-11-23T00:00:00",
          "2023-11-26T00:00:00",
          "2023-11-27T00:00:00",
          "2023-11-28T00:00:00",
          "2023-11-30T00:00:00",
          "2023-12-01T00:00:00",
          "2023-12-02T00:00:00",
          "2023-12-03T00:00:00",
          "2023-12-08T00:00:00",
          "2023-12-12T00:00:00",
          "2023-12-13T00:00:00",
          "2023-12-15T00:00:00",
          "2023-12-17T00:00:00",
          "2023-12-19T00:00:00",
          "2023-12-21T00:00:00",
          "2023-12-24T00:00:00",
          "2023-12-25T00:00:00",
          "2023-12-26T00:00:00",
          "2024-01-04T00:00:00",
          "2024-01-05T00:00:00",
          "2024-01-06T00:00:00",
          "2024-01-07T00:00:00",
          "2024-01-08T00:00:00",
          "2024-01-09T00:00:00",
          "2024-01-10T00:00:00",
          "2024-01-11T00:00:00",
          "2024-01-12T00:00:00",
          "2024-01-13T00:00:00",
          "2024-01-14T00:00:00",
          "2024-01-15T00:00:00",
          "2024-01-17T00:00:00",
          "2024-01-18T00:00:00",
          "2024-01-20T00:00:00",
          "2024-01-22T00:00:00",
          "2024-01-23T00:00:00",
          "2024-01-24T00:00:00",
          "2024-01-25T00:00:00",
          "2024-01-27T00:00:00",
          "2024-01-28T00:00:00",
          "2024-01-29T00:00:00",
          "2024-01-30T00:00:00",
          "2024-02-01T00:00:00",
          "2024-02-02T00:00:00",
          "2024-02-03T00:00:00",
          "2024-02-04T00:00:00",
          "2024-02-05T00:00:00",
          "2024-02-06T00:00:00",
          "2024-02-07T00:00:00",
          "2024-02-08T00:00:00",
          "2024-02-09T00:00:00",
          "2024-02-10T00:00:00",
          "2024-02-11T00:00:00",
          "2024-02-13T00:00:00",
          "2024-02-15T00:00:00",
          "2024-02-16T00:00:00",
          "2024-02-18T00:00:00",
          "2024-02-19T00:00:00",
          "2024-02-20T00:00:00",
          "2024-02-22T00:00:00",
          "2024-02-24T00:00:00",
          "2024-03-06T00:00:00",
          "2024-03-09T00:00:00",
          "2024-03-16T00:00:00",
          "2024-03-20T00:00:00",
          "2024-03-21T00:00:00",
          "2024-03-26T00:00:00",
          "2024-04-03T00:00:00",
          "2024-04-04T00:00:00",
          "2024-04-05T00:00:00",
          "2024-04-06T00:00:00",
          "2024-04-10T00:00:00",
          "2024-04-12T00:00:00",
          "2024-04-13T00:00:00",
          "2024-04-14T00:00:00",
          "2024-04-15T00:00:00",
          "2024-04-16T00:00:00",
          "2024-04-17T00:00:00",
          "2024-04-18T00:00:00",
          "2024-04-19T00:00:00",
          "2024-04-20T00:00:00",
          "2024-04-21T00:00:00",
          "2024-04-22T00:00:00",
          "2024-04-23T00:00:00",
          "2024-04-24T00:00:00",
          "2024-04-25T00:00:00",
          "2024-04-26T00:00:00",
          "2024-04-27T00:00:00",
          "2024-04-28T00:00:00",
          "2024-04-29T00:00:00",
          "2024-04-30T00:00:00",
          "2024-05-01T00:00:00",
          "2024-05-02T00:00:00",
          "2024-05-03T00:00:00",
          "2024-05-04T00:00:00",
          "2024-05-05T00:00:00",
          "2024-05-06T00:00:00",
          "2024-05-07T00:00:00",
          "2024-05-08T00:00:00",
          "2024-05-09T00:00:00",
          "2024-05-11T00:00:00",
          "2024-05-12T00:00:00",
          "2024-05-13T00:00:00",
          "2024-05-14T00:00:00",
          "2024-05-15T00:00:00",
          "2024-05-16T00:00:00",
          "2024-05-17T00:00:00",
          "2024-05-18T00:00:00",
          "2024-05-19T00:00:00",
          "2024-05-25T00:00:00",
          "2024-05-26T00:00:00",
          "2024-05-28T00:00:00",
          "2024-05-31T00:00:00",
          "2024-06-01T00:00:00",
          "2024-06-08T00:00:00",
          "2024-06-10T00:00:00",
          "2024-06-11T00:00:00",
          "2024-06-12T00:00:00",
          "2024-06-13T00:00:00",
          "2024-06-14T00:00:00",
          "2024-06-15T00:00:00",
          "2024-06-16T00:00:00",
          "2024-06-17T00:00:00",
          "2024-06-18T00:00:00",
          "2024-06-19T00:00:00",
          "2024-06-20T00:00:00",
          "2024-06-21T00:00:00",
          "2024-06-22T00:00:00",
          "2024-06-23T00:00:00",
          "2024-06-24T00:00:00",
          "2024-06-25T00:00:00",
          "2024-06-26T00:00:00",
          "2024-06-27T00:00:00",
          "2024-06-28T00:00:00",
          "2024-06-29T00:00:00",
          "2024-06-30T00:00:00"
         ],
         "y": [
          10,
          12,
          2,
          10,
          6,
          6,
          2,
          8,
          8,
          2,
          8,
          2,
          2,
          6,
          6,
          8,
          8,
          4,
          2,
          4,
          2,
          2,
          8,
          4,
          4,
          2,
          2,
          2,
          4,
          2,
          4,
          4,
          18,
          8,
          14,
          8,
          8,
          10,
          6,
          6,
          6,
          4,
          4,
          4,
          2,
          10,
          10,
          6,
          8,
          10,
          12,
          12,
          14,
          8,
          8,
          4,
          6,
          16,
          8,
          22,
          8,
          8,
          2,
          4,
          8,
          8,
          2,
          8,
          12,
          16,
          10,
          16,
          18,
          10,
          18,
          10,
          6,
          14,
          6,
          8,
          14,
          12,
          12,
          4,
          20,
          16,
          14,
          18,
          8,
          8,
          12,
          6,
          12,
          8,
          4,
          6,
          8,
          6,
          8,
          2,
          12,
          24,
          8,
          12,
          12,
          8,
          8,
          14,
          12,
          10,
          10,
          14,
          14,
          8,
          8,
          22,
          4,
          6,
          14,
          12,
          16,
          12,
          6,
          22,
          8,
          10,
          6,
          12,
          18,
          8,
          4,
          8,
          4,
          8,
          12,
          14,
          16,
          2,
          6,
          4,
          4,
          4,
          14,
          8,
          10,
          8,
          2,
          4,
          10,
          6,
          2,
          8,
          4,
          16,
          8,
          8,
          6,
          12,
          6,
          10,
          22,
          2,
          4,
          12,
          6,
          6,
          10,
          10,
          4,
          2,
          8,
          8,
          6,
          10,
          10,
          14,
          16,
          6,
          8,
          12,
          10,
          8,
          12,
          8,
          8,
          4,
          16,
          12,
          14,
          16,
          14,
          4,
          8,
          8,
          18,
          6,
          14,
          12,
          8,
          2,
          2,
          2,
          4,
          8,
          6,
          6,
          4,
          4,
          16,
          14,
          6,
          14,
          10,
          18,
          10,
          22,
          12,
          12,
          14,
          12,
          12,
          8,
          10,
          8,
          12,
          14,
          14,
          12,
          12,
          14,
          14,
          12,
          14,
          10,
          22,
          8,
          18,
          14,
          16,
          10,
          20,
          10,
          10,
          12,
          14,
          10,
          20,
          12,
          10,
          6,
          14,
          8,
          16,
          10,
          12,
          10,
          4,
          14,
          12,
          14,
          8,
          4,
          8,
          8,
          8,
          10,
          10,
          16,
          8,
          16,
          14,
          10,
          12,
          8,
          4,
          8,
          4,
          2,
          2,
          2,
          2,
          2,
          2,
          4,
          10,
          2,
          4,
          2,
          4,
          4,
          2,
          4,
          10,
          4,
          2,
          4,
          2,
          8,
          10,
          2,
          2,
          6,
          2,
          4,
          4,
          2,
          4,
          4,
          8,
          4,
          2,
          2,
          4,
          2,
          2,
          12,
          10,
          6,
          10,
          8,
          8,
          2,
          2,
          2,
          6,
          6,
          10,
          4,
          2,
          4,
          6,
          4,
          4,
          12,
          2,
          4,
          6,
          2,
          8,
          6,
          4,
          6,
          6,
          10,
          2,
          6,
          6,
          2,
          8,
          4,
          4,
          4,
          4,
          2,
          2,
          2,
          6,
          2,
          2,
          2,
          2,
          2,
          2,
          4,
          6,
          2,
          4,
          2,
          6,
          6,
          14,
          10,
          12,
          12,
          16,
          18,
          18,
          20,
          10,
          22,
          10,
          8,
          14,
          2,
          12,
          6,
          16,
          4,
          10,
          12,
          10,
          4,
          8,
          4,
          8,
          6,
          6,
          6,
          14,
          14,
          4,
          8,
          2,
          8,
          6,
          2,
          4,
          2,
          4,
          2,
          2,
          4,
          4,
          8,
          4,
          4,
          2,
          8,
          10,
          8,
          6,
          12,
          4,
          10,
          8,
          2,
          6,
          12,
          10,
          2,
          8,
          6
         ]
        },
        {
         "marker": {
          "color": "red"
         },
         "name": "Position Closed",
         "opacity": 1,
         "type": "bar",
         "x": [
          "2023-01-01T00:00:00",
          "2023-01-02T00:00:00",
          "2023-01-04T00:00:00",
          "2023-01-06T00:00:00",
          "2023-01-08T00:00:00",
          "2023-01-09T00:00:00",
          "2023-01-10T00:00:00",
          "2023-01-11T00:00:00",
          "2023-01-12T00:00:00",
          "2023-01-13T00:00:00",
          "2023-01-14T00:00:00",
          "2023-01-15T00:00:00",
          "2023-01-16T00:00:00",
          "2023-01-18T00:00:00",
          "2023-01-19T00:00:00",
          "2023-01-20T00:00:00",
          "2023-01-21T00:00:00",
          "2023-01-22T00:00:00",
          "2023-01-24T00:00:00",
          "2023-01-26T00:00:00",
          "2023-01-27T00:00:00",
          "2023-01-28T00:00:00",
          "2023-01-29T00:00:00",
          "2023-01-31T00:00:00",
          "2023-02-01T00:00:00",
          "2023-02-04T00:00:00",
          "2023-02-05T00:00:00",
          "2023-02-06T00:00:00",
          "2023-02-07T00:00:00",
          "2023-02-08T00:00:00",
          "2023-02-10T00:00:00",
          "2023-02-11T00:00:00",
          "2023-02-12T00:00:00",
          "2023-02-13T00:00:00",
          "2023-02-14T00:00:00",
          "2023-02-15T00:00:00",
          "2023-02-16T00:00:00",
          "2023-02-18T00:00:00",
          "2023-02-19T00:00:00",
          "2023-02-20T00:00:00",
          "2023-02-21T00:00:00",
          "2023-02-22T00:00:00",
          "2023-02-23T00:00:00",
          "2023-02-24T00:00:00",
          "2023-02-26T00:00:00",
          "2023-02-27T00:00:00",
          "2023-02-28T00:00:00",
          "2023-03-01T00:00:00",
          "2023-03-02T00:00:00",
          "2023-03-03T00:00:00",
          "2023-03-04T00:00:00",
          "2023-03-05T00:00:00",
          "2023-03-06T00:00:00",
          "2023-03-07T00:00:00",
          "2023-03-08T00:00:00",
          "2023-03-09T00:00:00",
          "2023-03-10T00:00:00",
          "2023-03-11T00:00:00",
          "2023-03-12T00:00:00",
          "2023-03-13T00:00:00",
          "2023-03-14T00:00:00",
          "2023-03-15T00:00:00",
          "2023-03-16T00:00:00",
          "2023-03-17T00:00:00",
          "2023-03-18T00:00:00",
          "2023-03-19T00:00:00",
          "2023-03-20T00:00:00",
          "2023-03-21T00:00:00",
          "2023-03-22T00:00:00",
          "2023-03-23T00:00:00",
          "2023-03-24T00:00:00",
          "2023-03-25T00:00:00",
          "2023-03-26T00:00:00",
          "2023-03-27T00:00:00",
          "2023-03-28T00:00:00",
          "2023-03-29T00:00:00",
          "2023-03-30T00:00:00",
          "2023-03-31T00:00:00",
          "2023-04-01T00:00:00",
          "2023-04-02T00:00:00",
          "2023-04-03T00:00:00",
          "2023-04-04T00:00:00",
          "2023-04-05T00:00:00",
          "2023-04-06T00:00:00",
          "2023-04-07T00:00:00",
          "2023-04-08T00:00:00",
          "2023-04-09T00:00:00",
          "2023-04-10T00:00:00",
          "2023-04-11T00:00:00",
          "2023-04-12T00:00:00",
          "2023-04-13T00:00:00",
          "2023-04-14T00:00:00",
          "2023-04-15T00:00:00",
          "2023-04-16T00:00:00",
          "2023-04-17T00:00:00",
          "2023-04-18T00:00:00",
          "2023-04-19T00:00:00",
          "2023-04-20T00:00:00",
          "2023-04-21T00:00:00",
          "2023-04-22T00:00:00",
          "2023-04-23T00:00:00",
          "2023-04-24T00:00:00",
          "2023-04-25T00:00:00",
          "2023-04-26T00:00:00",
          "2023-04-27T00:00:00",
          "2023-04-28T00:00:00",
          "2023-04-29T00:00:00",
          "2023-04-30T00:00:00",
          "2023-05-01T00:00:00",
          "2023-05-02T00:00:00",
          "2023-05-03T00:00:00",
          "2023-05-04T00:00:00",
          "2023-05-05T00:00:00",
          "2023-05-06T00:00:00",
          "2023-05-07T00:00:00",
          "2023-05-08T00:00:00",
          "2023-05-09T00:00:00",
          "2023-05-10T00:00:00",
          "2023-05-11T00:00:00",
          "2023-05-12T00:00:00",
          "2023-05-13T00:00:00",
          "2023-05-14T00:00:00",
          "2023-05-15T00:00:00",
          "2023-05-16T00:00:00",
          "2023-05-17T00:00:00",
          "2023-05-18T00:00:00",
          "2023-05-19T00:00:00",
          "2023-05-20T00:00:00",
          "2023-05-21T00:00:00",
          "2023-05-22T00:00:00",
          "2023-05-23T00:00:00",
          "2023-05-24T00:00:00",
          "2023-05-25T00:00:00",
          "2023-05-26T00:00:00",
          "2023-05-27T00:00:00",
          "2023-05-28T00:00:00",
          "2023-05-29T00:00:00",
          "2023-05-30T00:00:00",
          "2023-05-31T00:00:00",
          "2023-06-01T00:00:00",
          "2023-06-02T00:00:00",
          "2023-06-03T00:00:00",
          "2023-06-04T00:00:00",
          "2023-06-05T00:00:00",
          "2023-06-06T00:00:00",
          "2023-06-07T00:00:00",
          "2023-06-08T00:00:00",
          "2023-06-09T00:00:00",
          "2023-06-10T00:00:00",
          "2023-06-11T00:00:00",
          "2023-06-12T00:00:00",
          "2023-06-13T00:00:00",
          "2023-06-14T00:00:00",
          "2023-06-15T00:00:00",
          "2023-06-16T00:00:00",
          "2023-06-17T00:00:00",
          "2023-06-18T00:00:00",
          "2023-06-19T00:00:00",
          "2023-06-20T00:00:00",
          "2023-06-21T00:00:00",
          "2023-06-22T00:00:00",
          "2023-06-23T00:00:00",
          "2023-06-24T00:00:00",
          "2023-06-25T00:00:00",
          "2023-06-26T00:00:00",
          "2023-06-27T00:00:00",
          "2023-06-28T00:00:00",
          "2023-06-29T00:00:00",
          "2023-07-01T00:00:00",
          "2023-07-02T00:00:00",
          "2023-07-04T00:00:00",
          "2023-07-05T00:00:00",
          "2023-07-06T00:00:00",
          "2023-07-07T00:00:00",
          "2023-07-08T00:00:00",
          "2023-07-09T00:00:00",
          "2023-07-10T00:00:00",
          "2023-07-11T00:00:00",
          "2023-07-12T00:00:00",
          "2023-07-13T00:00:00",
          "2023-07-14T00:00:00",
          "2023-07-15T00:00:00",
          "2023-07-16T00:00:00",
          "2023-07-17T00:00:00",
          "2023-07-18T00:00:00",
          "2023-07-19T00:00:00",
          "2023-07-20T00:00:00",
          "2023-07-21T00:00:00",
          "2023-07-22T00:00:00",
          "2023-07-23T00:00:00",
          "2023-07-24T00:00:00",
          "2023-07-25T00:00:00",
          "2023-07-26T00:00:00",
          "2023-07-27T00:00:00",
          "2023-07-28T00:00:00",
          "2023-07-29T00:00:00",
          "2023-07-30T00:00:00",
          "2023-07-31T00:00:00",
          "2023-08-01T00:00:00",
          "2023-08-02T00:00:00",
          "2023-08-03T00:00:00",
          "2023-08-04T00:00:00",
          "2023-08-09T00:00:00",
          "2023-08-10T00:00:00",
          "2023-08-12T00:00:00",
          "2023-08-13T00:00:00",
          "2023-08-14T00:00:00",
          "2023-08-15T00:00:00",
          "2023-08-18T00:00:00",
          "2023-08-19T00:00:00",
          "2023-08-20T00:00:00",
          "2023-08-21T00:00:00",
          "2023-08-22T00:00:00",
          "2023-08-23T00:00:00",
          "2023-08-24T00:00:00",
          "2023-08-25T00:00:00",
          "2023-08-26T00:00:00",
          "2023-08-27T00:00:00",
          "2023-08-28T00:00:00",
          "2023-08-29T00:00:00",
          "2023-08-30T00:00:00",
          "2023-08-31T00:00:00",
          "2023-09-01T00:00:00",
          "2023-09-02T00:00:00",
          "2023-09-03T00:00:00",
          "2023-09-04T00:00:00",
          "2023-09-05T00:00:00",
          "2023-09-06T00:00:00",
          "2023-09-07T00:00:00",
          "2023-09-08T00:00:00",
          "2023-09-09T00:00:00",
          "2023-09-10T00:00:00",
          "2023-09-11T00:00:00",
          "2023-09-12T00:00:00",
          "2023-09-13T00:00:00",
          "2023-09-14T00:00:00",
          "2023-09-15T00:00:00",
          "2023-09-16T00:00:00",
          "2023-09-17T00:00:00",
          "2023-09-18T00:00:00",
          "2023-09-19T00:00:00",
          "2023-09-20T00:00:00",
          "2023-09-21T00:00:00",
          "2023-09-22T00:00:00",
          "2023-09-23T00:00:00",
          "2023-09-24T00:00:00",
          "2023-09-25T00:00:00",
          "2023-09-26T00:00:00",
          "2023-09-27T00:00:00",
          "2023-09-28T00:00:00",
          "2023-09-29T00:00:00",
          "2023-09-30T00:00:00",
          "2023-10-01T00:00:00",
          "2023-10-02T00:00:00",
          "2023-10-03T00:00:00",
          "2023-10-04T00:00:00",
          "2023-10-05T00:00:00",
          "2023-10-06T00:00:00",
          "2023-10-07T00:00:00",
          "2023-10-08T00:00:00",
          "2023-10-09T00:00:00",
          "2023-10-10T00:00:00",
          "2023-10-11T00:00:00",
          "2023-10-12T00:00:00",
          "2023-10-13T00:00:00",
          "2023-10-14T00:00:00",
          "2023-10-15T00:00:00",
          "2023-10-16T00:00:00",
          "2023-10-17T00:00:00",
          "2023-10-18T00:00:00",
          "2023-10-19T00:00:00",
          "2023-10-20T00:00:00",
          "2023-10-21T00:00:00",
          "2023-10-22T00:00:00",
          "2023-10-23T00:00:00",
          "2023-10-24T00:00:00",
          "2023-10-25T00:00:00",
          "2023-10-26T00:00:00",
          "2023-10-29T00:00:00",
          "2023-10-30T00:00:00",
          "2023-10-31T00:00:00",
          "2023-11-01T00:00:00",
          "2023-11-03T00:00:00",
          "2023-11-04T00:00:00",
          "2023-11-05T00:00:00",
          "2023-11-06T00:00:00",
          "2023-11-07T00:00:00",
          "2023-11-08T00:00:00",
          "2023-11-11T00:00:00",
          "2023-11-12T00:00:00",
          "2023-11-14T00:00:00",
          "2023-11-15T00:00:00",
          "2023-11-16T00:00:00",
          "2023-11-18T00:00:00",
          "2023-11-19T00:00:00",
          "2023-11-20T00:00:00",
          "2023-11-22T00:00:00",
          "2023-11-23T00:00:00",
          "2023-11-26T00:00:00",
          "2023-11-27T00:00:00",
          "2023-11-28T00:00:00",
          "2023-11-30T00:00:00",
          "2023-12-01T00:00:00",
          "2023-12-02T00:00:00",
          "2023-12-03T00:00:00",
          "2023-12-08T00:00:00",
          "2023-12-12T00:00:00",
          "2023-12-13T00:00:00",
          "2023-12-15T00:00:00",
          "2023-12-17T00:00:00",
          "2023-12-19T00:00:00",
          "2023-12-21T00:00:00",
          "2023-12-24T00:00:00",
          "2023-12-25T00:00:00",
          "2023-12-26T00:00:00",
          "2024-01-04T00:00:00",
          "2024-01-05T00:00:00",
          "2024-01-06T00:00:00",
          "2024-01-07T00:00:00",
          "2024-01-08T00:00:00",
          "2024-01-09T00:00:00",
          "2024-01-10T00:00:00",
          "2024-01-11T00:00:00",
          "2024-01-12T00:00:00",
          "2024-01-13T00:00:00",
          "2024-01-14T00:00:00",
          "2024-01-15T00:00:00",
          "2024-01-17T00:00:00",
          "2024-01-18T00:00:00",
          "2024-01-20T00:00:00",
          "2024-01-22T00:00:00",
          "2024-01-23T00:00:00",
          "2024-01-24T00:00:00",
          "2024-01-25T00:00:00",
          "2024-01-27T00:00:00",
          "2024-01-28T00:00:00",
          "2024-01-29T00:00:00",
          "2024-01-30T00:00:00",
          "2024-02-01T00:00:00",
          "2024-02-02T00:00:00",
          "2024-02-03T00:00:00",
          "2024-02-04T00:00:00",
          "2024-02-05T00:00:00",
          "2024-02-06T00:00:00",
          "2024-02-07T00:00:00",
          "2024-02-08T00:00:00",
          "2024-02-09T00:00:00",
          "2024-02-10T00:00:00",
          "2024-02-11T00:00:00",
          "2024-02-13T00:00:00",
          "2024-02-15T00:00:00",
          "2024-02-16T00:00:00",
          "2024-02-18T00:00:00",
          "2024-02-19T00:00:00",
          "2024-02-20T00:00:00",
          "2024-02-22T00:00:00",
          "2024-02-24T00:00:00",
          "2024-03-06T00:00:00",
          "2024-03-09T00:00:00",
          "2024-03-16T00:00:00",
          "2024-03-20T00:00:00",
          "2024-03-21T00:00:00",
          "2024-03-26T00:00:00",
          "2024-04-03T00:00:00",
          "2024-04-04T00:00:00",
          "2024-04-05T00:00:00",
          "2024-04-06T00:00:00",
          "2024-04-10T00:00:00",
          "2024-04-12T00:00:00",
          "2024-04-13T00:00:00",
          "2024-04-14T00:00:00",
          "2024-04-15T00:00:00",
          "2024-04-16T00:00:00",
          "2024-04-17T00:00:00",
          "2024-04-18T00:00:00",
          "2024-04-19T00:00:00",
          "2024-04-20T00:00:00",
          "2024-04-21T00:00:00",
          "2024-04-22T00:00:00",
          "2024-04-23T00:00:00",
          "2024-04-24T00:00:00",
          "2024-04-25T00:00:00",
          "2024-04-26T00:00:00",
          "2024-04-27T00:00:00",
          "2024-04-28T00:00:00",
          "2024-04-29T00:00:00",
          "2024-04-30T00:00:00",
          "2024-05-01T00:00:00",
          "2024-05-02T00:00:00",
          "2024-05-03T00:00:00",
          "2024-05-04T00:00:00",
          "2024-05-05T00:00:00",
          "2024-05-06T00:00:00",
          "2024-05-07T00:00:00",
          "2024-05-08T00:00:00",
          "2024-05-09T00:00:00",
          "2024-05-11T00:00:00",
          "2024-05-12T00:00:00",
          "2024-05-13T00:00:00",
          "2024-05-14T00:00:00",
          "2024-05-15T00:00:00",
          "2024-05-16T00:00:00",
          "2024-05-17T00:00:00",
          "2024-05-18T00:00:00",
          "2024-05-19T00:00:00",
          "2024-05-25T00:00:00",
          "2024-05-26T00:00:00",
          "2024-05-28T00:00:00",
          "2024-05-31T00:00:00",
          "2024-06-01T00:00:00",
          "2024-06-08T00:00:00",
          "2024-06-10T00:00:00",
          "2024-06-11T00:00:00",
          "2024-06-12T00:00:00",
          "2024-06-13T00:00:00",
          "2024-06-14T00:00:00",
          "2024-06-15T00:00:00",
          "2024-06-16T00:00:00",
          "2024-06-17T00:00:00",
          "2024-06-18T00:00:00",
          "2024-06-19T00:00:00",
          "2024-06-20T00:00:00",
          "2024-06-21T00:00:00",
          "2024-06-22T00:00:00",
          "2024-06-23T00:00:00",
          "2024-06-24T00:00:00",
          "2024-06-25T00:00:00",
          "2024-06-26T00:00:00",
          "2024-06-27T00:00:00",
          "2024-06-28T00:00:00",
          "2024-06-29T00:00:00",
          "2024-06-30T00:00:00"
         ],
         "y": [
          -2,
          -6,
          -2,
          -2,
          -4,
          -8,
          0,
          -10,
          -2,
          -4,
          -4,
          -4,
          0,
          -6,
          -4,
          -12,
          -4,
          0,
          -2,
          -4,
          -6,
          -4,
          -4,
          -4,
          -2,
          -2,
          -6,
          -2,
          -2,
          0,
          -2,
          -10,
          -12,
          -10,
          -10,
          -10,
          -6,
          -6,
          -12,
          -4,
          -2,
          -6,
          -2,
          -8,
          0,
          -6,
          -14,
          -8,
          -2,
          -12,
          -14,
          -6,
          -18,
          -10,
          -4,
          -6,
          -22,
          -10,
          -12,
          -16,
          -8,
          -6,
          -6,
          -4,
          -4,
          -6,
          -4,
          -8,
          -12,
          -16,
          -6,
          -18,
          -18,
          -14,
          -8,
          -10,
          -12,
          -8,
          -10,
          -6,
          -16,
          -18,
          -2,
          -16,
          -14,
          -16,
          -16,
          -10,
          -8,
          -10,
          -10,
          -10,
          -12,
          -2,
          -4,
          -12,
          -8,
          -8,
          -2,
          -2,
          -24,
          -10,
          -12,
          -12,
          -18,
          -8,
          -10,
          -6,
          -14,
          -4,
          -20,
          -8,
          -16,
          -8,
          -14,
          -10,
          -8,
          -6,
          -20,
          -12,
          -14,
          -10,
          -16,
          -12,
          -8,
          -8,
          -6,
          -18,
          -16,
          -4,
          -6,
          -4,
          -8,
          -10,
          -18,
          -12,
          -6,
          0,
          -8,
          -8,
          -2,
          -4,
          -16,
          -4,
          -16,
          -4,
          -2,
          -4,
          -8,
          -10,
          -4,
          -4,
          -6,
          -14,
          -12,
          -6,
          -6,
          -6,
          -10,
          -22,
          -10,
          0,
          -10,
          -10,
          -2,
          -12,
          -8,
          -8,
          -2,
          -2,
          -6,
          -8,
          -8,
          -14,
          -12,
          -10,
          -14,
          -2,
          -8,
          -18,
          -2,
          -18,
          -8,
          -10,
          -6,
          -6,
          -12,
          -14,
          -22,
          -6,
          -14,
          -6,
          -10,
          -8,
          -12,
          -12,
          -12,
          -14,
          -4,
          0,
          -2,
          0,
          -8,
          -4,
          -8,
          -4,
          -4,
          -2,
          -28,
          -16,
          -10,
          -6,
          -12,
          -12,
          -14,
          -20,
          -10,
          -8,
          -20,
          -16,
          -12,
          -6,
          -10,
          -6,
          -14,
          -12,
          -12,
          -16,
          -6,
          -24,
          -10,
          -12,
          -16,
          -16,
          -14,
          -16,
          -14,
          -12,
          -14,
          -10,
          -18,
          -14,
          -12,
          -10,
          -8,
          -10,
          -20,
          -8,
          -12,
          -12,
          -12,
          -6,
          -16,
          -16,
          -4,
          -10,
          -16,
          -14,
          -8,
          -10,
          -8,
          -4,
          -4,
          -6,
          -14,
          -10,
          -10,
          -12,
          -20,
          -12,
          -14,
          -10,
          -10,
          -6,
          -2,
          -10,
          -2,
          0,
          0,
          -2,
          -2,
          -2,
          -6,
          -8,
          -6,
          0,
          -4,
          0,
          -6,
          0,
          -6,
          -4,
          -6,
          0,
          -6,
          0,
          -4,
          -6,
          -4,
          -2,
          -2,
          -4,
          -2,
          -6,
          0,
          0,
          -6,
          -2,
          -4,
          -4,
          -2,
          0,
          -4,
          -2,
          0,
          -8,
          -14,
          -6,
          -8,
          -12,
          -2,
          -2,
          -2,
          -4,
          -6,
          -12,
          -2,
          -8,
          0,
          -4,
          -4,
          -2,
          -8,
          -8,
          -6,
          0,
          -6,
          -4,
          -2,
          -6,
          -6,
          -6,
          -8,
          -6,
          -4,
          -4,
          -4,
          -2,
          -6,
          0,
          -2,
          -2,
          -2,
          -2,
          -2,
          -2,
          0,
          -2,
          -2,
          -2,
          -4,
          0,
          0,
          -4,
          -2,
          -2,
          -4,
          0,
          -6,
          -8,
          -18,
          -14,
          -10,
          -16,
          -18,
          -18,
          -12,
          -18,
          -20,
          -14,
          -4,
          -10,
          -10,
          -6,
          -8,
          -12,
          -10,
          -8,
          -22,
          -10,
          -4,
          -2,
          -6,
          -8,
          -4,
          -6,
          -2,
          -8,
          -14,
          -6,
          -12,
          -2,
          -6,
          -10,
          0,
          -4,
          0,
          0,
          -6,
          0,
          -2,
          -6,
          -4,
          -6,
          -6,
          0,
          -6,
          -10,
          -8,
          -10,
          -8,
          -8,
          -4,
          -10,
          -6,
          -10,
          -6,
          -8,
          -4,
          -8,
          -6,
          -4
         ]
        }
       ],
       "layout": {
        "barmode": "relative",
        "height": 600,
        "legend": {
         "x": 0.01,
         "y": 0.99
        },
        "shapes": [
         {
          "line": {
           "color": "black",
           "width": 1
          },
          "type": "line",
          "x0": "2023-01-01T00:00:00",
          "x1": "2024-06-30T00:00:00",
          "y0": 0,
          "y1": 0
         }
        ],
        "template": {
         "data": {
          "bar": [
           {
            "error_x": {
             "color": "#2a3f5f"
            },
            "error_y": {
             "color": "#2a3f5f"
            },
            "marker": {
             "line": {
              "color": "white",
              "width": 0.5
             },
             "pattern": {
              "fillmode": "overlay",
              "size": 10,
              "solidity": 0.2
             }
            },
            "type": "bar"
           }
          ],
          "barpolar": [
           {
            "marker": {
             "line": {
              "color": "white",
              "width": 0.5
             },
             "pattern": {
              "fillmode": "overlay",
              "size": 10,
              "solidity": 0.2
             }
            },
            "type": "barpolar"
           }
          ],
          "carpet": [
           {
            "aaxis": {
             "endlinecolor": "#2a3f5f",
             "gridcolor": "#C8D4E3",
             "linecolor": "#C8D4E3",
             "minorgridcolor": "#C8D4E3",
             "startlinecolor": "#2a3f5f"
            },
            "baxis": {
             "endlinecolor": "#2a3f5f",
             "gridcolor": "#C8D4E3",
             "linecolor": "#C8D4E3",
             "minorgridcolor": "#C8D4E3",
             "startlinecolor": "#2a3f5f"
            },
            "type": "carpet"
           }
          ],
          "choropleth": [
           {
            "colorbar": {
             "outlinewidth": 0,
             "ticks": ""
            },
            "type": "choropleth"
           }
          ],
          "contour": [
           {
            "colorbar": {
             "outlinewidth": 0,
             "ticks": ""
            },
            "colorscale": [
             [
              0,
              "#0d0887"
             ],
             [
              0.1111111111111111,
              "#46039f"
             ],
             [
              0.2222222222222222,
              "#7201a8"
             ],
             [
              0.3333333333333333,
              "#9c179e"
             ],
             [
              0.4444444444444444,
              "#bd3786"
             ],
             [
              0.5555555555555556,
              "#d8576b"
             ],
             [
              0.6666666666666666,
              "#ed7953"
             ],
             [
              0.7777777777777778,
              "#fb9f3a"
             ],
             [
              0.8888888888888888,
              "#fdca26"
             ],
             [
              1,
              "#f0f921"
             ]
            ],
            "type": "contour"
           }
          ],
          "contourcarpet": [
           {
            "colorbar": {
             "outlinewidth": 0,
             "ticks": ""
            },
            "type": "contourcarpet"
           }
          ],
          "heatmap": [
           {
            "colorbar": {
             "outlinewidth": 0,
             "ticks": ""
            },
            "colorscale": [
             [
              0,
              "#0d0887"
             ],
             [
              0.1111111111111111,
              "#46039f"
             ],
             [
              0.2222222222222222,
              "#7201a8"
             ],
             [
              0.3333333333333333,
              "#9c179e"
             ],
             [
              0.4444444444444444,
              "#bd3786"
             ],
             [
              0.5555555555555556,
              "#d8576b"
             ],
             [
              0.6666666666666666,
              "#ed7953"
             ],
             [
              0.7777777777777778,
              "#fb9f3a"
             ],
             [
              0.8888888888888888,
              "#fdca26"
             ],
             [
              1,
              "#f0f921"
             ]
            ],
            "type": "heatmap"
           }
          ],
          "heatmapgl": [
           {
            "colorbar": {
             "outlinewidth": 0,
             "ticks": ""
            },
            "colorscale": [
             [
              0,
              "#0d0887"
             ],
             [
              0.1111111111111111,
              "#46039f"
             ],
             [
              0.2222222222222222,
              "#7201a8"
             ],
             [
              0.3333333333333333,
              "#9c179e"
             ],
             [
              0.4444444444444444,
              "#bd3786"
             ],
             [
              0.5555555555555556,
              "#d8576b"
             ],
             [
              0.6666666666666666,
              "#ed7953"
             ],
             [
              0.7777777777777778,
              "#fb9f3a"
             ],
             [
              0.8888888888888888,
              "#fdca26"
             ],
             [
              1,
              "#f0f921"
             ]
            ],
            "type": "heatmapgl"
           }
          ],
          "histogram": [
           {
            "marker": {
             "pattern": {
              "fillmode": "overlay",
              "size": 10,
              "solidity": 0.2
             }
            },
            "type": "histogram"
           }
          ],
          "histogram2d": [
           {
            "colorbar": {
             "outlinewidth": 0,
             "ticks": ""
            },
            "colorscale": [
             [
              0,
              "#0d0887"
             ],
             [
              0.1111111111111111,
              "#46039f"
             ],
             [
              0.2222222222222222,
              "#7201a8"
             ],
             [
              0.3333333333333333,
              "#9c179e"
             ],
             [
              0.4444444444444444,
              "#bd3786"
             ],
             [
              0.5555555555555556,
              "#d8576b"
             ],
             [
              0.6666666666666666,
              "#ed7953"
             ],
             [
              0.7777777777777778,
              "#fb9f3a"
             ],
             [
              0.8888888888888888,
              "#fdca26"
             ],
             [
              1,
              "#f0f921"
             ]
            ],
            "type": "histogram2d"
           }
          ],
          "histogram2dcontour": [
           {
            "colorbar": {
             "outlinewidth": 0,
             "ticks": ""
            },
            "colorscale": [
             [
              0,
              "#0d0887"
             ],
             [
              0.1111111111111111,
              "#46039f"
             ],
             [
              0.2222222222222222,
              "#7201a8"
             ],
             [
              0.3333333333333333,
              "#9c179e"
             ],
             [
              0.4444444444444444,
              "#bd3786"
             ],
             [
              0.5555555555555556,
              "#d8576b"
             ],
             [
              0.6666666666666666,
              "#ed7953"
             ],
             [
              0.7777777777777778,
              "#fb9f3a"
             ],
             [
              0.8888888888888888,
              "#fdca26"
             ],
             [
              1,
              "#f0f921"
             ]
            ],
            "type": "histogram2dcontour"
           }
          ],
          "mesh3d": [
           {
            "colorbar": {
             "outlinewidth": 0,
             "ticks": ""
            },
            "type": "mesh3d"
           }
          ],
          "parcoords": [
           {
            "line": {
             "colorbar": {
              "outlinewidth": 0,
              "ticks": ""
             }
            },
            "type": "parcoords"
           }
          ],
          "pie": [
           {
            "automargin": true,
            "type": "pie"
           }
          ],
          "scatter": [
           {
            "fillpattern": {
             "fillmode": "overlay",
             "size": 10,
             "solidity": 0.2
            },
            "type": "scatter"
           }
          ],
          "scatter3d": [
           {
            "line": {
             "colorbar": {
              "outlinewidth": 0,
              "ticks": ""
             }
            },
            "marker": {
             "colorbar": {
              "outlinewidth": 0,
              "ticks": ""
             }
            },
            "type": "scatter3d"
           }
          ],
          "scattercarpet": [
           {
            "marker": {
             "colorbar": {
              "outlinewidth": 0,
              "ticks": ""
             }
            },
            "type": "scattercarpet"
           }
          ],
          "scattergeo": [
           {
            "marker": {
             "colorbar": {
              "outlinewidth": 0,
              "ticks": ""
             }
            },
            "type": "scattergeo"
           }
          ],
          "scattergl": [
           {
            "marker": {
             "colorbar": {
              "outlinewidth": 0,
              "ticks": ""
             }
            },
            "type": "scattergl"
           }
          ],
          "scattermapbox": [
           {
            "marker": {
             "colorbar": {
              "outlinewidth": 0,
              "ticks": ""
             }
            },
            "type": "scattermapbox"
           }
          ],
          "scatterpolar": [
           {
            "marker": {
             "colorbar": {
              "outlinewidth": 0,
              "ticks": ""
             }
            },
            "type": "scatterpolar"
           }
          ],
          "scatterpolargl": [
           {
            "marker": {
             "colorbar": {
              "outlinewidth": 0,
              "ticks": ""
             }
            },
            "type": "scatterpolargl"
           }
          ],
          "scatterternary": [
           {
            "marker": {
             "colorbar": {
              "outlinewidth": 0,
              "ticks": ""
             }
            },
            "type": "scatterternary"
           }
          ],
          "surface": [
           {
            "colorbar": {
             "outlinewidth": 0,
             "ticks": ""
            },
            "colorscale": [
             [
              0,
              "#0d0887"
             ],
             [
              0.1111111111111111,
              "#46039f"
             ],
             [
              0.2222222222222222,
              "#7201a8"
             ],
             [
              0.3333333333333333,
              "#9c179e"
             ],
             [
              0.4444444444444444,
              "#bd3786"
             ],
             [
              0.5555555555555556,
              "#d8576b"
             ],
             [
              0.6666666666666666,
              "#ed7953"
             ],
             [
              0.7777777777777778,
              "#fb9f3a"
             ],
             [
              0.8888888888888888,
              "#fdca26"
             ],
             [
              1,
              "#f0f921"
             ]
            ],
            "type": "surface"
           }
          ],
          "table": [
           {
            "cells": {
             "fill": {
              "color": "#EBF0F8"
             },
             "line": {
              "color": "white"
             }
            },
            "header": {
             "fill": {
              "color": "#C8D4E3"
             },
             "line": {
              "color": "white"
             }
            },
            "type": "table"
           }
          ]
         },
         "layout": {
          "annotationdefaults": {
           "arrowcolor": "#2a3f5f",
           "arrowhead": 0,
           "arrowwidth": 1
          },
          "autotypenumbers": "strict",
          "coloraxis": {
           "colorbar": {
            "outlinewidth": 0,
            "ticks": ""
           }
          },
          "colorscale": {
           "diverging": [
            [
             0,
             "#8e0152"
            ],
            [
             0.1,
             "#c51b7d"
            ],
            [
             0.2,
             "#de77ae"
            ],
            [
             0.3,
             "#f1b6da"
            ],
            [
             0.4,
             "#fde0ef"
            ],
            [
             0.5,
             "#f7f7f7"
            ],
            [
             0.6,
             "#e6f5d0"
            ],
            [
             0.7,
             "#b8e186"
            ],
            [
             0.8,
             "#7fbc41"
            ],
            [
             0.9,
             "#4d9221"
            ],
            [
             1,
             "#276419"
            ]
           ],
           "sequential": [
            [
             0,
             "#0d0887"
            ],
            [
             0.1111111111111111,
             "#46039f"
            ],
            [
             0.2222222222222222,
             "#7201a8"
            ],
            [
             0.3333333333333333,
             "#9c179e"
            ],
            [
             0.4444444444444444,
             "#bd3786"
            ],
            [
             0.5555555555555556,
             "#d8576b"
            ],
            [
             0.6666666666666666,
             "#ed7953"
            ],
            [
             0.7777777777777778,
             "#fb9f3a"
            ],
            [
             0.8888888888888888,
             "#fdca26"
            ],
            [
             1,
             "#f0f921"
            ]
           ],
           "sequentialminus": [
            [
             0,
             "#0d0887"
            ],
            [
             0.1111111111111111,
             "#46039f"
            ],
            [
             0.2222222222222222,
             "#7201a8"
            ],
            [
             0.3333333333333333,
             "#9c179e"
            ],
            [
             0.4444444444444444,
             "#bd3786"
            ],
            [
             0.5555555555555556,
             "#d8576b"
            ],
            [
             0.6666666666666666,
             "#ed7953"
            ],
            [
             0.7777777777777778,
             "#fb9f3a"
            ],
            [
             0.8888888888888888,
             "#fdca26"
            ],
            [
             1,
             "#f0f921"
            ]
           ]
          },
          "colorway": [
           "#636efa",
           "#EF553B",
           "#00cc96",
           "#ab63fa",
           "#FFA15A",
           "#19d3f3",
           "#FF6692",
           "#B6E880",
           "#FF97FF",
           "#FECB52"
          ],
          "font": {
           "color": "#2a3f5f"
          },
          "geo": {
           "bgcolor": "white",
           "lakecolor": "white",
           "landcolor": "white",
           "showlakes": true,
           "showland": true,
           "subunitcolor": "#C8D4E3"
          },
          "hoverlabel": {
           "align": "left"
          },
          "hovermode": "closest",
          "mapbox": {
           "style": "light"
          },
          "paper_bgcolor": "white",
          "plot_bgcolor": "white",
          "polar": {
           "angularaxis": {
            "gridcolor": "#EBF0F8",
            "linecolor": "#EBF0F8",
            "ticks": ""
           },
           "bgcolor": "white",
           "radialaxis": {
            "gridcolor": "#EBF0F8",
            "linecolor": "#EBF0F8",
            "ticks": ""
           }
          },
          "scene": {
           "xaxis": {
            "backgroundcolor": "white",
            "gridcolor": "#DFE8F3",
            "gridwidth": 2,
            "linecolor": "#EBF0F8",
            "showbackground": true,
            "ticks": "",
            "zerolinecolor": "#EBF0F8"
           },
           "yaxis": {
            "backgroundcolor": "white",
            "gridcolor": "#DFE8F3",
            "gridwidth": 2,
            "linecolor": "#EBF0F8",
            "showbackground": true,
            "ticks": "",
            "zerolinecolor": "#EBF0F8"
           },
           "zaxis": {
            "backgroundcolor": "white",
            "gridcolor": "#DFE8F3",
            "gridwidth": 2,
            "linecolor": "#EBF0F8",
            "showbackground": true,
            "ticks": "",
            "zerolinecolor": "#EBF0F8"
           }
          },
          "shapedefaults": {
           "line": {
            "color": "#2a3f5f"
           }
          },
          "ternary": {
           "aaxis": {
            "gridcolor": "#DFE8F3",
            "linecolor": "#A2B1C6",
            "ticks": ""
           },
           "baxis": {
            "gridcolor": "#DFE8F3",
            "linecolor": "#A2B1C6",
            "ticks": ""
           },
           "bgcolor": "white",
           "caxis": {
            "gridcolor": "#DFE8F3",
            "linecolor": "#A2B1C6",
            "ticks": ""
           }
          },
          "title": {
           "x": 0.05
          },
          "xaxis": {
           "automargin": true,
           "gridcolor": "#EBF0F8",
           "linecolor": "#EBF0F8",
           "ticks": "",
           "title": {
            "standoff": 15
           },
           "zerolinecolor": "#EBF0F8",
           "zerolinewidth": 2
          },
          "yaxis": {
           "automargin": true,
           "gridcolor": "#EBF0F8",
           "linecolor": "#EBF0F8",
           "ticks": "",
           "title": {
            "standoff": 15
           },
           "zerolinecolor": "#EBF0F8",
           "zerolinewidth": 2
          }
         }
        },
        "title": {
         "text": "Trading Volume"
        },
        "width": 800,
        "xaxis": {
         "dtick": "M3",
         "showgrid": true,
         "showticklabels": true,
         "tickangle": 0,
         "tickformat": "%b %Y",
         "zeroline": true
        },
        "yaxis": {
         "title": {
          "text": "Number of Trades"
         }
        }
       }
      }
     },
     "metadata": {},
     "output_type": "display_data"
    }
   ],
   "source": [
    "import pandas as pd\n",
    "import plotly.graph_objects as go\n",
    "\n",
    "trades_filepath = './results/test/trades_log.csv'\n",
    "trades_df = pd.read_csv(trades_filepath)\n",
    "\n",
    "trades_df['open_time'] = pd.to_datetime(trades_df['open_time'])\n",
    "trades_df['close_time'] = pd.to_datetime(trades_df['close_time'])\n",
    "\n",
    "trades_df['open_date'] = trades_df['open_time'].dt.date\n",
    "trades_df['close_date'] = trades_df['close_time'].dt.date\n",
    "\n",
    "trades_opened_per_day = trades_df['open_date'].value_counts().sort_index()\n",
    "\n",
    "trades_closed_per_day = trades_df['close_date'].value_counts().sort_index()\n",
    "\n",
    "trades_counts = pd.DataFrame({\n",
    "    'date': pd.to_datetime(trades_opened_per_day.index),\n",
    "    'trades_opened': trades_opened_per_day.values,\n",
    "    'trades_closed': -trades_closed_per_day.reindex(trades_opened_per_day.index, fill_value=0).values\n",
    "})\n",
    "\n",
    "fig = go.Figure()\n",
    "\n",
    "fig.add_trace(go.Bar(\n",
    "    x=trades_counts['date'],\n",
    "    y=trades_counts['trades_opened'],\n",
    "    name='Position Opened',\n",
    "    marker_color='green',\n",
    "    opacity=1.0\n",
    "))\n",
    "\n",
    "# Add bars for trades closed\n",
    "fig.add_trace(go.Bar(\n",
    "    x=trades_counts['date'],\n",
    "    y=trades_counts['trades_closed'],\n",
    "    name='Position Closed',\n",
    "    marker_color='red',\n",
    "    opacity=1.0\n",
    "))\n",
    "\n",
    "fig.add_shape(\n",
    "    type=\"line\",\n",
    "    x0=trades_counts['date'].min(), x1=trades_counts['date'].max(),\n",
    "    y0=0, y1=0,\n",
    "    line=dict(color=\"black\", width=1)\n",
    ")\n",
    "\n",
    "\n",
    "fig.update_layout(\n",
    "    title='Trading Volume',\n",
    "    yaxis_title='Number of Trades',\n",
    "    barmode='relative',\n",
    "    legend=dict(x=0.01, y=0.99),\n",
    "    template='plotly_white',\n",
    "    width=800,\n",
    "    height=600\n",
    ")\n",
    "\n",
    "fig.update_xaxes(\n",
    "    tickformat='%b %Y',\n",
    "    tickangle=0,\n",
    "    showgrid=True,\n",
    "    zeroline=True,\n",
    "    showticklabels=True,\n",
    "    dtick='M3'\n",
    ")\n",
    "\n",
    "fig.show()"
   ]
  },
  {
   "cell_type": "code",
   "execution_count": 58,
   "metadata": {},
   "outputs": [
    {
     "data": {
      "application/vnd.plotly.v1+json": {
       "config": {
        "plotlyServerURL": "https://plot.ly"
       },
       "data": [
        {
         "marker": {
          "color": "green"
         },
         "name": "Position Opened",
         "opacity": 1,
         "type": "bar",
         "x": [
          "2023-01-01T00:00:00",
          "2023-01-02T00:00:00",
          "2023-01-04T00:00:00",
          "2023-01-06T00:00:00",
          "2023-01-08T00:00:00",
          "2023-01-09T00:00:00",
          "2023-01-10T00:00:00",
          "2023-01-11T00:00:00",
          "2023-01-12T00:00:00",
          "2023-01-13T00:00:00",
          "2023-01-14T00:00:00",
          "2023-01-15T00:00:00",
          "2023-01-16T00:00:00",
          "2023-01-18T00:00:00",
          "2023-01-19T00:00:00",
          "2023-01-20T00:00:00",
          "2023-01-21T00:00:00",
          "2023-01-22T00:00:00",
          "2023-01-24T00:00:00",
          "2023-01-26T00:00:00",
          "2023-01-27T00:00:00",
          "2023-01-28T00:00:00",
          "2023-01-29T00:00:00",
          "2023-01-31T00:00:00",
          "2023-02-01T00:00:00",
          "2023-02-04T00:00:00",
          "2023-02-05T00:00:00",
          "2023-02-06T00:00:00",
          "2023-02-07T00:00:00",
          "2023-02-08T00:00:00",
          "2023-02-10T00:00:00",
          "2023-02-11T00:00:00",
          "2023-02-12T00:00:00",
          "2023-02-13T00:00:00",
          "2023-02-14T00:00:00",
          "2023-02-15T00:00:00",
          "2023-02-16T00:00:00",
          "2023-02-18T00:00:00",
          "2023-02-19T00:00:00",
          "2023-02-20T00:00:00",
          "2023-02-21T00:00:00",
          "2023-02-22T00:00:00",
          "2023-02-23T00:00:00",
          "2023-02-24T00:00:00",
          "2023-02-26T00:00:00",
          "2023-02-27T00:00:00",
          "2023-02-28T00:00:00",
          "2023-03-01T00:00:00",
          "2023-03-02T00:00:00",
          "2023-03-03T00:00:00",
          "2023-03-04T00:00:00",
          "2023-03-05T00:00:00",
          "2023-03-06T00:00:00",
          "2023-03-07T00:00:00",
          "2023-03-08T00:00:00",
          "2023-03-09T00:00:00",
          "2023-03-10T00:00:00",
          "2023-03-11T00:00:00",
          "2023-03-12T00:00:00",
          "2023-03-13T00:00:00",
          "2023-03-14T00:00:00",
          "2023-03-15T00:00:00",
          "2023-03-16T00:00:00",
          "2023-03-17T00:00:00",
          "2023-03-18T00:00:00",
          "2023-03-19T00:00:00",
          "2023-03-20T00:00:00",
          "2023-03-21T00:00:00",
          "2023-03-22T00:00:00",
          "2023-03-23T00:00:00",
          "2023-03-24T00:00:00",
          "2023-03-25T00:00:00",
          "2023-03-26T00:00:00",
          "2023-03-27T00:00:00",
          "2023-03-28T00:00:00",
          "2023-03-29T00:00:00",
          "2023-03-30T00:00:00",
          "2023-03-31T00:00:00",
          "2023-04-01T00:00:00",
          "2023-04-02T00:00:00",
          "2023-04-03T00:00:00",
          "2023-04-04T00:00:00",
          "2023-04-05T00:00:00",
          "2023-04-06T00:00:00",
          "2023-04-07T00:00:00",
          "2023-04-08T00:00:00",
          "2023-04-09T00:00:00",
          "2023-04-10T00:00:00",
          "2023-04-11T00:00:00",
          "2023-04-12T00:00:00",
          "2023-04-13T00:00:00",
          "2023-04-14T00:00:00",
          "2023-04-15T00:00:00",
          "2023-04-16T00:00:00",
          "2023-04-17T00:00:00",
          "2023-04-18T00:00:00",
          "2023-04-19T00:00:00",
          "2023-04-20T00:00:00",
          "2023-04-21T00:00:00",
          "2023-04-22T00:00:00",
          "2023-04-23T00:00:00",
          "2023-04-24T00:00:00",
          "2023-04-25T00:00:00",
          "2023-04-26T00:00:00",
          "2023-04-27T00:00:00",
          "2023-04-28T00:00:00",
          "2023-04-29T00:00:00",
          "2023-04-30T00:00:00",
          "2023-05-01T00:00:00",
          "2023-05-02T00:00:00",
          "2023-05-03T00:00:00",
          "2023-05-04T00:00:00",
          "2023-05-05T00:00:00",
          "2023-05-06T00:00:00",
          "2023-05-07T00:00:00",
          "2023-05-08T00:00:00",
          "2023-05-09T00:00:00",
          "2023-05-10T00:00:00",
          "2023-05-11T00:00:00",
          "2023-05-12T00:00:00",
          "2023-05-13T00:00:00",
          "2023-05-14T00:00:00",
          "2023-05-15T00:00:00",
          "2023-05-16T00:00:00",
          "2023-05-17T00:00:00",
          "2023-05-18T00:00:00",
          "2023-05-19T00:00:00",
          "2023-05-20T00:00:00",
          "2023-05-21T00:00:00",
          "2023-05-22T00:00:00",
          "2023-05-23T00:00:00",
          "2023-05-24T00:00:00",
          "2023-05-25T00:00:00",
          "2023-05-26T00:00:00",
          "2023-05-27T00:00:00",
          "2023-05-28T00:00:00",
          "2023-05-29T00:00:00",
          "2023-05-30T00:00:00",
          "2023-05-31T00:00:00",
          "2023-06-01T00:00:00",
          "2023-06-02T00:00:00",
          "2023-06-03T00:00:00",
          "2023-06-04T00:00:00",
          "2023-06-05T00:00:00",
          "2023-06-06T00:00:00",
          "2023-06-07T00:00:00",
          "2023-06-08T00:00:00",
          "2023-06-09T00:00:00",
          "2023-06-10T00:00:00",
          "2023-06-11T00:00:00",
          "2023-06-12T00:00:00",
          "2023-06-13T00:00:00",
          "2023-06-14T00:00:00",
          "2023-06-15T00:00:00",
          "2023-06-16T00:00:00",
          "2023-06-17T00:00:00",
          "2023-06-18T00:00:00",
          "2023-06-19T00:00:00",
          "2023-06-20T00:00:00",
          "2023-06-21T00:00:00",
          "2023-06-22T00:00:00",
          "2023-06-23T00:00:00",
          "2023-06-24T00:00:00",
          "2023-06-25T00:00:00",
          "2023-06-26T00:00:00",
          "2023-06-27T00:00:00",
          "2023-06-28T00:00:00",
          "2023-06-29T00:00:00",
          "2023-07-01T00:00:00",
          "2023-07-02T00:00:00",
          "2023-07-04T00:00:00",
          "2023-07-05T00:00:00",
          "2023-07-06T00:00:00",
          "2023-07-07T00:00:00",
          "2023-07-08T00:00:00",
          "2023-07-09T00:00:00",
          "2023-07-10T00:00:00",
          "2023-07-11T00:00:00",
          "2023-07-12T00:00:00",
          "2023-07-13T00:00:00",
          "2023-07-14T00:00:00",
          "2023-07-15T00:00:00",
          "2023-07-16T00:00:00",
          "2023-07-17T00:00:00",
          "2023-07-18T00:00:00",
          "2023-07-19T00:00:00",
          "2023-07-20T00:00:00",
          "2023-07-21T00:00:00",
          "2023-07-22T00:00:00",
          "2023-07-23T00:00:00",
          "2023-07-24T00:00:00",
          "2023-07-25T00:00:00",
          "2023-07-26T00:00:00",
          "2023-07-27T00:00:00",
          "2023-07-28T00:00:00",
          "2023-07-29T00:00:00",
          "2023-07-30T00:00:00",
          "2023-07-31T00:00:00",
          "2023-08-01T00:00:00",
          "2023-08-02T00:00:00",
          "2023-08-03T00:00:00",
          "2023-08-04T00:00:00",
          "2023-08-09T00:00:00",
          "2023-08-10T00:00:00",
          "2023-08-12T00:00:00",
          "2023-08-13T00:00:00",
          "2023-08-14T00:00:00",
          "2023-08-15T00:00:00",
          "2023-08-18T00:00:00",
          "2023-08-19T00:00:00",
          "2023-08-20T00:00:00",
          "2023-08-21T00:00:00",
          "2023-08-22T00:00:00",
          "2023-08-23T00:00:00",
          "2023-08-24T00:00:00",
          "2023-08-25T00:00:00",
          "2023-08-26T00:00:00",
          "2023-08-27T00:00:00",
          "2023-08-28T00:00:00",
          "2023-08-29T00:00:00",
          "2023-08-30T00:00:00",
          "2023-08-31T00:00:00",
          "2023-09-01T00:00:00",
          "2023-09-02T00:00:00",
          "2023-09-03T00:00:00",
          "2023-09-04T00:00:00",
          "2023-09-05T00:00:00",
          "2023-09-06T00:00:00",
          "2023-09-07T00:00:00",
          "2023-09-08T00:00:00",
          "2023-09-09T00:00:00",
          "2023-09-10T00:00:00",
          "2023-09-11T00:00:00",
          "2023-09-12T00:00:00",
          "2023-09-13T00:00:00",
          "2023-09-14T00:00:00",
          "2023-09-15T00:00:00",
          "2023-09-16T00:00:00",
          "2023-09-17T00:00:00",
          "2023-09-18T00:00:00",
          "2023-09-19T00:00:00",
          "2023-09-20T00:00:00",
          "2023-09-21T00:00:00",
          "2023-09-22T00:00:00",
          "2023-09-23T00:00:00",
          "2023-09-24T00:00:00",
          "2023-09-25T00:00:00",
          "2023-09-26T00:00:00",
          "2023-09-27T00:00:00",
          "2023-09-28T00:00:00",
          "2023-09-29T00:00:00",
          "2023-09-30T00:00:00",
          "2023-10-01T00:00:00",
          "2023-10-02T00:00:00",
          "2023-10-03T00:00:00",
          "2023-10-04T00:00:00",
          "2023-10-05T00:00:00",
          "2023-10-06T00:00:00",
          "2023-10-07T00:00:00",
          "2023-10-08T00:00:00",
          "2023-10-09T00:00:00",
          "2023-10-10T00:00:00",
          "2023-10-11T00:00:00",
          "2023-10-12T00:00:00",
          "2023-10-13T00:00:00",
          "2023-10-14T00:00:00",
          "2023-10-15T00:00:00",
          "2023-10-16T00:00:00",
          "2023-10-17T00:00:00",
          "2023-10-18T00:00:00",
          "2023-10-19T00:00:00",
          "2023-10-20T00:00:00",
          "2023-10-21T00:00:00",
          "2023-10-22T00:00:00",
          "2023-10-23T00:00:00",
          "2023-10-24T00:00:00",
          "2023-10-25T00:00:00",
          "2023-10-26T00:00:00",
          "2023-10-29T00:00:00",
          "2023-10-30T00:00:00",
          "2023-10-31T00:00:00",
          "2023-11-01T00:00:00",
          "2023-11-03T00:00:00",
          "2023-11-04T00:00:00",
          "2023-11-05T00:00:00",
          "2023-11-06T00:00:00",
          "2023-11-07T00:00:00",
          "2023-11-08T00:00:00",
          "2023-11-11T00:00:00",
          "2023-11-12T00:00:00",
          "2023-11-14T00:00:00",
          "2023-11-15T00:00:00",
          "2023-11-16T00:00:00",
          "2023-11-18T00:00:00",
          "2023-11-19T00:00:00",
          "2023-11-20T00:00:00",
          "2023-11-22T00:00:00",
          "2023-11-23T00:00:00",
          "2023-11-26T00:00:00",
          "2023-11-27T00:00:00",
          "2023-11-28T00:00:00",
          "2023-11-30T00:00:00",
          "2023-12-01T00:00:00",
          "2023-12-02T00:00:00",
          "2023-12-03T00:00:00",
          "2023-12-08T00:00:00",
          "2023-12-12T00:00:00",
          "2023-12-13T00:00:00",
          "2023-12-15T00:00:00",
          "2023-12-17T00:00:00",
          "2023-12-19T00:00:00",
          "2023-12-21T00:00:00",
          "2023-12-24T00:00:00",
          "2023-12-25T00:00:00",
          "2023-12-26T00:00:00",
          "2024-01-04T00:00:00",
          "2024-01-05T00:00:00",
          "2024-01-06T00:00:00",
          "2024-01-07T00:00:00",
          "2024-01-08T00:00:00",
          "2024-01-09T00:00:00",
          "2024-01-10T00:00:00",
          "2024-01-11T00:00:00",
          "2024-01-12T00:00:00",
          "2024-01-13T00:00:00",
          "2024-01-14T00:00:00",
          "2024-01-15T00:00:00",
          "2024-01-17T00:00:00",
          "2024-01-18T00:00:00",
          "2024-01-20T00:00:00",
          "2024-01-22T00:00:00",
          "2024-01-23T00:00:00",
          "2024-01-24T00:00:00",
          "2024-01-25T00:00:00",
          "2024-01-27T00:00:00",
          "2024-01-28T00:00:00",
          "2024-01-29T00:00:00",
          "2024-01-30T00:00:00",
          "2024-02-01T00:00:00",
          "2024-02-02T00:00:00",
          "2024-02-03T00:00:00",
          "2024-02-04T00:00:00",
          "2024-02-05T00:00:00",
          "2024-02-06T00:00:00",
          "2024-02-07T00:00:00",
          "2024-02-08T00:00:00",
          "2024-02-09T00:00:00",
          "2024-02-10T00:00:00",
          "2024-02-11T00:00:00",
          "2024-02-13T00:00:00",
          "2024-02-15T00:00:00",
          "2024-02-16T00:00:00",
          "2024-02-18T00:00:00",
          "2024-02-19T00:00:00",
          "2024-02-20T00:00:00",
          "2024-02-22T00:00:00",
          "2024-02-24T00:00:00",
          "2024-03-06T00:00:00",
          "2024-03-09T00:00:00",
          "2024-03-16T00:00:00",
          "2024-03-20T00:00:00",
          "2024-03-21T00:00:00",
          "2024-03-26T00:00:00",
          "2024-04-03T00:00:00",
          "2024-04-04T00:00:00",
          "2024-04-05T00:00:00",
          "2024-04-06T00:00:00",
          "2024-04-10T00:00:00",
          "2024-04-12T00:00:00",
          "2024-04-13T00:00:00",
          "2024-04-14T00:00:00",
          "2024-04-15T00:00:00",
          "2024-04-16T00:00:00",
          "2024-04-17T00:00:00",
          "2024-04-18T00:00:00",
          "2024-04-19T00:00:00",
          "2024-04-20T00:00:00",
          "2024-04-21T00:00:00",
          "2024-04-22T00:00:00",
          "2024-04-23T00:00:00",
          "2024-04-24T00:00:00",
          "2024-04-25T00:00:00",
          "2024-04-26T00:00:00",
          "2024-04-27T00:00:00",
          "2024-04-28T00:00:00",
          "2024-04-29T00:00:00",
          "2024-04-30T00:00:00",
          "2024-05-01T00:00:00",
          "2024-05-02T00:00:00",
          "2024-05-03T00:00:00",
          "2024-05-04T00:00:00",
          "2024-05-05T00:00:00",
          "2024-05-06T00:00:00",
          "2024-05-07T00:00:00",
          "2024-05-08T00:00:00",
          "2024-05-09T00:00:00",
          "2024-05-11T00:00:00",
          "2024-05-12T00:00:00",
          "2024-05-13T00:00:00",
          "2024-05-14T00:00:00",
          "2024-05-15T00:00:00",
          "2024-05-16T00:00:00",
          "2024-05-17T00:00:00",
          "2024-05-18T00:00:00",
          "2024-05-19T00:00:00",
          "2024-05-25T00:00:00",
          "2024-05-26T00:00:00",
          "2024-05-28T00:00:00",
          "2024-05-31T00:00:00",
          "2024-06-01T00:00:00",
          "2024-06-08T00:00:00",
          "2024-06-10T00:00:00",
          "2024-06-11T00:00:00",
          "2024-06-12T00:00:00",
          "2024-06-13T00:00:00",
          "2024-06-14T00:00:00",
          "2024-06-15T00:00:00",
          "2024-06-16T00:00:00",
          "2024-06-17T00:00:00",
          "2024-06-18T00:00:00",
          "2024-06-19T00:00:00",
          "2024-06-20T00:00:00",
          "2024-06-21T00:00:00",
          "2024-06-22T00:00:00",
          "2024-06-23T00:00:00",
          "2024-06-24T00:00:00",
          "2024-06-25T00:00:00",
          "2024-06-26T00:00:00",
          "2024-06-27T00:00:00",
          "2024-06-28T00:00:00",
          "2024-06-29T00:00:00",
          "2024-06-30T00:00:00"
         ],
         "y": [
          10,
          12,
          2,
          10,
          6,
          6,
          2,
          8,
          8,
          2,
          8,
          2,
          2,
          6,
          6,
          8,
          8,
          4,
          2,
          4,
          2,
          2,
          8,
          4,
          4,
          2,
          2,
          2,
          4,
          2,
          4,
          4,
          18,
          8,
          14,
          8,
          8,
          10,
          6,
          6,
          6,
          4,
          4,
          4,
          2,
          10,
          10,
          6,
          8,
          10,
          12,
          12,
          14,
          8,
          8,
          4,
          6,
          16,
          8,
          22,
          8,
          8,
          2,
          4,
          8,
          8,
          2,
          8,
          12,
          16,
          10,
          16,
          18,
          10,
          18,
          10,
          6,
          14,
          6,
          8,
          14,
          12,
          12,
          4,
          20,
          16,
          14,
          18,
          8,
          8,
          12,
          6,
          12,
          8,
          4,
          6,
          8,
          6,
          8,
          2,
          12,
          24,
          8,
          12,
          12,
          8,
          8,
          14,
          12,
          10,
          10,
          14,
          14,
          8,
          8,
          22,
          4,
          6,
          14,
          12,
          16,
          12,
          6,
          22,
          8,
          10,
          6,
          12,
          18,
          8,
          4,
          8,
          4,
          8,
          12,
          14,
          16,
          2,
          6,
          4,
          4,
          4,
          14,
          8,
          10,
          8,
          2,
          4,
          10,
          6,
          2,
          8,
          4,
          16,
          8,
          8,
          6,
          12,
          6,
          10,
          22,
          2,
          4,
          12,
          6,
          6,
          10,
          10,
          4,
          2,
          8,
          8,
          6,
          10,
          10,
          14,
          16,
          6,
          8,
          12,
          10,
          8,
          12,
          8,
          8,
          4,
          16,
          12,
          14,
          16,
          14,
          4,
          8,
          8,
          18,
          6,
          14,
          12,
          8,
          2,
          2,
          2,
          4,
          8,
          6,
          6,
          4,
          4,
          16,
          14,
          6,
          14,
          10,
          18,
          10,
          22,
          12,
          12,
          14,
          12,
          12,
          8,
          10,
          8,
          12,
          14,
          14,
          12,
          12,
          14,
          14,
          12,
          14,
          10,
          22,
          8,
          18,
          14,
          16,
          10,
          20,
          10,
          10,
          12,
          14,
          10,
          20,
          12,
          10,
          6,
          14,
          8,
          16,
          10,
          12,
          10,
          4,
          14,
          12,
          14,
          8,
          4,
          8,
          8,
          8,
          10,
          10,
          16,
          8,
          16,
          14,
          10,
          12,
          8,
          4,
          8,
          4,
          2,
          2,
          2,
          2,
          2,
          2,
          4,
          10,
          2,
          4,
          2,
          4,
          4,
          2,
          4,
          10,
          4,
          2,
          4,
          2,
          8,
          10,
          2,
          2,
          6,
          2,
          4,
          4,
          2,
          4,
          4,
          8,
          4,
          2,
          2,
          4,
          2,
          2,
          12,
          10,
          6,
          10,
          8,
          8,
          2,
          2,
          2,
          6,
          6,
          10,
          4,
          2,
          4,
          6,
          4,
          4,
          12,
          2,
          4,
          6,
          2,
          8,
          6,
          4,
          6,
          6,
          10,
          2,
          6,
          6,
          2,
          8,
          4,
          4,
          4,
          4,
          2,
          2,
          2,
          6,
          2,
          2,
          2,
          2,
          2,
          2,
          4,
          6,
          2,
          4,
          2,
          6,
          6,
          14,
          10,
          12,
          12,
          16,
          18,
          18,
          20,
          10,
          22,
          10,
          8,
          14,
          2,
          12,
          6,
          16,
          4,
          10,
          12,
          10,
          4,
          8,
          4,
          8,
          6,
          6,
          6,
          14,
          14,
          4,
          8,
          2,
          8,
          6,
          2,
          4,
          2,
          4,
          2,
          2,
          4,
          4,
          8,
          4,
          4,
          2,
          8,
          10,
          8,
          6,
          12,
          4,
          10,
          8,
          2,
          6,
          12,
          10,
          2,
          8,
          6
         ]
        },
        {
         "marker": {
          "color": "red"
         },
         "name": "Position Closed",
         "opacity": 1,
         "type": "bar",
         "x": [
          "2023-01-01T00:00:00",
          "2023-01-02T00:00:00",
          "2023-01-04T00:00:00",
          "2023-01-06T00:00:00",
          "2023-01-08T00:00:00",
          "2023-01-09T00:00:00",
          "2023-01-10T00:00:00",
          "2023-01-11T00:00:00",
          "2023-01-12T00:00:00",
          "2023-01-13T00:00:00",
          "2023-01-14T00:00:00",
          "2023-01-15T00:00:00",
          "2023-01-16T00:00:00",
          "2023-01-18T00:00:00",
          "2023-01-19T00:00:00",
          "2023-01-20T00:00:00",
          "2023-01-21T00:00:00",
          "2023-01-22T00:00:00",
          "2023-01-24T00:00:00",
          "2023-01-26T00:00:00",
          "2023-01-27T00:00:00",
          "2023-01-28T00:00:00",
          "2023-01-29T00:00:00",
          "2023-01-31T00:00:00",
          "2023-02-01T00:00:00",
          "2023-02-04T00:00:00",
          "2023-02-05T00:00:00",
          "2023-02-06T00:00:00",
          "2023-02-07T00:00:00",
          "2023-02-08T00:00:00",
          "2023-02-10T00:00:00",
          "2023-02-11T00:00:00",
          "2023-02-12T00:00:00",
          "2023-02-13T00:00:00",
          "2023-02-14T00:00:00",
          "2023-02-15T00:00:00",
          "2023-02-16T00:00:00",
          "2023-02-18T00:00:00",
          "2023-02-19T00:00:00",
          "2023-02-20T00:00:00",
          "2023-02-21T00:00:00",
          "2023-02-22T00:00:00",
          "2023-02-23T00:00:00",
          "2023-02-24T00:00:00",
          "2023-02-26T00:00:00",
          "2023-02-27T00:00:00",
          "2023-02-28T00:00:00",
          "2023-03-01T00:00:00",
          "2023-03-02T00:00:00",
          "2023-03-03T00:00:00",
          "2023-03-04T00:00:00",
          "2023-03-05T00:00:00",
          "2023-03-06T00:00:00",
          "2023-03-07T00:00:00",
          "2023-03-08T00:00:00",
          "2023-03-09T00:00:00",
          "2023-03-10T00:00:00",
          "2023-03-11T00:00:00",
          "2023-03-12T00:00:00",
          "2023-03-13T00:00:00",
          "2023-03-14T00:00:00",
          "2023-03-15T00:00:00",
          "2023-03-16T00:00:00",
          "2023-03-17T00:00:00",
          "2023-03-18T00:00:00",
          "2023-03-19T00:00:00",
          "2023-03-20T00:00:00",
          "2023-03-21T00:00:00",
          "2023-03-22T00:00:00",
          "2023-03-23T00:00:00",
          "2023-03-24T00:00:00",
          "2023-03-25T00:00:00",
          "2023-03-26T00:00:00",
          "2023-03-27T00:00:00",
          "2023-03-28T00:00:00",
          "2023-03-29T00:00:00",
          "2023-03-30T00:00:00",
          "2023-03-31T00:00:00",
          "2023-04-01T00:00:00",
          "2023-04-02T00:00:00",
          "2023-04-03T00:00:00",
          "2023-04-04T00:00:00",
          "2023-04-05T00:00:00",
          "2023-04-06T00:00:00",
          "2023-04-07T00:00:00",
          "2023-04-08T00:00:00",
          "2023-04-09T00:00:00",
          "2023-04-10T00:00:00",
          "2023-04-11T00:00:00",
          "2023-04-12T00:00:00",
          "2023-04-13T00:00:00",
          "2023-04-14T00:00:00",
          "2023-04-15T00:00:00",
          "2023-04-16T00:00:00",
          "2023-04-17T00:00:00",
          "2023-04-18T00:00:00",
          "2023-04-19T00:00:00",
          "2023-04-20T00:00:00",
          "2023-04-21T00:00:00",
          "2023-04-22T00:00:00",
          "2023-04-23T00:00:00",
          "2023-04-24T00:00:00",
          "2023-04-25T00:00:00",
          "2023-04-26T00:00:00",
          "2023-04-27T00:00:00",
          "2023-04-28T00:00:00",
          "2023-04-29T00:00:00",
          "2023-04-30T00:00:00",
          "2023-05-01T00:00:00",
          "2023-05-02T00:00:00",
          "2023-05-03T00:00:00",
          "2023-05-04T00:00:00",
          "2023-05-05T00:00:00",
          "2023-05-06T00:00:00",
          "2023-05-07T00:00:00",
          "2023-05-08T00:00:00",
          "2023-05-09T00:00:00",
          "2023-05-10T00:00:00",
          "2023-05-11T00:00:00",
          "2023-05-12T00:00:00",
          "2023-05-13T00:00:00",
          "2023-05-14T00:00:00",
          "2023-05-15T00:00:00",
          "2023-05-16T00:00:00",
          "2023-05-17T00:00:00",
          "2023-05-18T00:00:00",
          "2023-05-19T00:00:00",
          "2023-05-20T00:00:00",
          "2023-05-21T00:00:00",
          "2023-05-22T00:00:00",
          "2023-05-23T00:00:00",
          "2023-05-24T00:00:00",
          "2023-05-25T00:00:00",
          "2023-05-26T00:00:00",
          "2023-05-27T00:00:00",
          "2023-05-28T00:00:00",
          "2023-05-29T00:00:00",
          "2023-05-30T00:00:00",
          "2023-05-31T00:00:00",
          "2023-06-01T00:00:00",
          "2023-06-02T00:00:00",
          "2023-06-03T00:00:00",
          "2023-06-04T00:00:00",
          "2023-06-05T00:00:00",
          "2023-06-06T00:00:00",
          "2023-06-07T00:00:00",
          "2023-06-08T00:00:00",
          "2023-06-09T00:00:00",
          "2023-06-10T00:00:00",
          "2023-06-11T00:00:00",
          "2023-06-12T00:00:00",
          "2023-06-13T00:00:00",
          "2023-06-14T00:00:00",
          "2023-06-15T00:00:00",
          "2023-06-16T00:00:00",
          "2023-06-17T00:00:00",
          "2023-06-18T00:00:00",
          "2023-06-19T00:00:00",
          "2023-06-20T00:00:00",
          "2023-06-21T00:00:00",
          "2023-06-22T00:00:00",
          "2023-06-23T00:00:00",
          "2023-06-24T00:00:00",
          "2023-06-25T00:00:00",
          "2023-06-26T00:00:00",
          "2023-06-27T00:00:00",
          "2023-06-28T00:00:00",
          "2023-06-29T00:00:00",
          "2023-07-01T00:00:00",
          "2023-07-02T00:00:00",
          "2023-07-04T00:00:00",
          "2023-07-05T00:00:00",
          "2023-07-06T00:00:00",
          "2023-07-07T00:00:00",
          "2023-07-08T00:00:00",
          "2023-07-09T00:00:00",
          "2023-07-10T00:00:00",
          "2023-07-11T00:00:00",
          "2023-07-12T00:00:00",
          "2023-07-13T00:00:00",
          "2023-07-14T00:00:00",
          "2023-07-15T00:00:00",
          "2023-07-16T00:00:00",
          "2023-07-17T00:00:00",
          "2023-07-18T00:00:00",
          "2023-07-19T00:00:00",
          "2023-07-20T00:00:00",
          "2023-07-21T00:00:00",
          "2023-07-22T00:00:00",
          "2023-07-23T00:00:00",
          "2023-07-24T00:00:00",
          "2023-07-25T00:00:00",
          "2023-07-26T00:00:00",
          "2023-07-27T00:00:00",
          "2023-07-28T00:00:00",
          "2023-07-29T00:00:00",
          "2023-07-30T00:00:00",
          "2023-07-31T00:00:00",
          "2023-08-01T00:00:00",
          "2023-08-02T00:00:00",
          "2023-08-03T00:00:00",
          "2023-08-04T00:00:00",
          "2023-08-09T00:00:00",
          "2023-08-10T00:00:00",
          "2023-08-12T00:00:00",
          "2023-08-13T00:00:00",
          "2023-08-14T00:00:00",
          "2023-08-15T00:00:00",
          "2023-08-18T00:00:00",
          "2023-08-19T00:00:00",
          "2023-08-20T00:00:00",
          "2023-08-21T00:00:00",
          "2023-08-22T00:00:00",
          "2023-08-23T00:00:00",
          "2023-08-24T00:00:00",
          "2023-08-25T00:00:00",
          "2023-08-26T00:00:00",
          "2023-08-27T00:00:00",
          "2023-08-28T00:00:00",
          "2023-08-29T00:00:00",
          "2023-08-30T00:00:00",
          "2023-08-31T00:00:00",
          "2023-09-01T00:00:00",
          "2023-09-02T00:00:00",
          "2023-09-03T00:00:00",
          "2023-09-04T00:00:00",
          "2023-09-05T00:00:00",
          "2023-09-06T00:00:00",
          "2023-09-07T00:00:00",
          "2023-09-08T00:00:00",
          "2023-09-09T00:00:00",
          "2023-09-10T00:00:00",
          "2023-09-11T00:00:00",
          "2023-09-12T00:00:00",
          "2023-09-13T00:00:00",
          "2023-09-14T00:00:00",
          "2023-09-15T00:00:00",
          "2023-09-16T00:00:00",
          "2023-09-17T00:00:00",
          "2023-09-18T00:00:00",
          "2023-09-19T00:00:00",
          "2023-09-20T00:00:00",
          "2023-09-21T00:00:00",
          "2023-09-22T00:00:00",
          "2023-09-23T00:00:00",
          "2023-09-24T00:00:00",
          "2023-09-25T00:00:00",
          "2023-09-26T00:00:00",
          "2023-09-27T00:00:00",
          "2023-09-28T00:00:00",
          "2023-09-29T00:00:00",
          "2023-09-30T00:00:00",
          "2023-10-01T00:00:00",
          "2023-10-02T00:00:00",
          "2023-10-03T00:00:00",
          "2023-10-04T00:00:00",
          "2023-10-05T00:00:00",
          "2023-10-06T00:00:00",
          "2023-10-07T00:00:00",
          "2023-10-08T00:00:00",
          "2023-10-09T00:00:00",
          "2023-10-10T00:00:00",
          "2023-10-11T00:00:00",
          "2023-10-12T00:00:00",
          "2023-10-13T00:00:00",
          "2023-10-14T00:00:00",
          "2023-10-15T00:00:00",
          "2023-10-16T00:00:00",
          "2023-10-17T00:00:00",
          "2023-10-18T00:00:00",
          "2023-10-19T00:00:00",
          "2023-10-20T00:00:00",
          "2023-10-21T00:00:00",
          "2023-10-22T00:00:00",
          "2023-10-23T00:00:00",
          "2023-10-24T00:00:00",
          "2023-10-25T00:00:00",
          "2023-10-26T00:00:00",
          "2023-10-29T00:00:00",
          "2023-10-30T00:00:00",
          "2023-10-31T00:00:00",
          "2023-11-01T00:00:00",
          "2023-11-03T00:00:00",
          "2023-11-04T00:00:00",
          "2023-11-05T00:00:00",
          "2023-11-06T00:00:00",
          "2023-11-07T00:00:00",
          "2023-11-08T00:00:00",
          "2023-11-11T00:00:00",
          "2023-11-12T00:00:00",
          "2023-11-14T00:00:00",
          "2023-11-15T00:00:00",
          "2023-11-16T00:00:00",
          "2023-11-18T00:00:00",
          "2023-11-19T00:00:00",
          "2023-11-20T00:00:00",
          "2023-11-22T00:00:00",
          "2023-11-23T00:00:00",
          "2023-11-26T00:00:00",
          "2023-11-27T00:00:00",
          "2023-11-28T00:00:00",
          "2023-11-30T00:00:00",
          "2023-12-01T00:00:00",
          "2023-12-02T00:00:00",
          "2023-12-03T00:00:00",
          "2023-12-08T00:00:00",
          "2023-12-12T00:00:00",
          "2023-12-13T00:00:00",
          "2023-12-15T00:00:00",
          "2023-12-17T00:00:00",
          "2023-12-19T00:00:00",
          "2023-12-21T00:00:00",
          "2023-12-24T00:00:00",
          "2023-12-25T00:00:00",
          "2023-12-26T00:00:00",
          "2024-01-04T00:00:00",
          "2024-01-05T00:00:00",
          "2024-01-06T00:00:00",
          "2024-01-07T00:00:00",
          "2024-01-08T00:00:00",
          "2024-01-09T00:00:00",
          "2024-01-10T00:00:00",
          "2024-01-11T00:00:00",
          "2024-01-12T00:00:00",
          "2024-01-13T00:00:00",
          "2024-01-14T00:00:00",
          "2024-01-15T00:00:00",
          "2024-01-17T00:00:00",
          "2024-01-18T00:00:00",
          "2024-01-20T00:00:00",
          "2024-01-22T00:00:00",
          "2024-01-23T00:00:00",
          "2024-01-24T00:00:00",
          "2024-01-25T00:00:00",
          "2024-01-27T00:00:00",
          "2024-01-28T00:00:00",
          "2024-01-29T00:00:00",
          "2024-01-30T00:00:00",
          "2024-02-01T00:00:00",
          "2024-02-02T00:00:00",
          "2024-02-03T00:00:00",
          "2024-02-04T00:00:00",
          "2024-02-05T00:00:00",
          "2024-02-06T00:00:00",
          "2024-02-07T00:00:00",
          "2024-02-08T00:00:00",
          "2024-02-09T00:00:00",
          "2024-02-10T00:00:00",
          "2024-02-11T00:00:00",
          "2024-02-13T00:00:00",
          "2024-02-15T00:00:00",
          "2024-02-16T00:00:00",
          "2024-02-18T00:00:00",
          "2024-02-19T00:00:00",
          "2024-02-20T00:00:00",
          "2024-02-22T00:00:00",
          "2024-02-24T00:00:00",
          "2024-03-06T00:00:00",
          "2024-03-09T00:00:00",
          "2024-03-16T00:00:00",
          "2024-03-20T00:00:00",
          "2024-03-21T00:00:00",
          "2024-03-26T00:00:00",
          "2024-04-03T00:00:00",
          "2024-04-04T00:00:00",
          "2024-04-05T00:00:00",
          "2024-04-06T00:00:00",
          "2024-04-10T00:00:00",
          "2024-04-12T00:00:00",
          "2024-04-13T00:00:00",
          "2024-04-14T00:00:00",
          "2024-04-15T00:00:00",
          "2024-04-16T00:00:00",
          "2024-04-17T00:00:00",
          "2024-04-18T00:00:00",
          "2024-04-19T00:00:00",
          "2024-04-20T00:00:00",
          "2024-04-21T00:00:00",
          "2024-04-22T00:00:00",
          "2024-04-23T00:00:00",
          "2024-04-24T00:00:00",
          "2024-04-25T00:00:00",
          "2024-04-26T00:00:00",
          "2024-04-27T00:00:00",
          "2024-04-28T00:00:00",
          "2024-04-29T00:00:00",
          "2024-04-30T00:00:00",
          "2024-05-01T00:00:00",
          "2024-05-02T00:00:00",
          "2024-05-03T00:00:00",
          "2024-05-04T00:00:00",
          "2024-05-05T00:00:00",
          "2024-05-06T00:00:00",
          "2024-05-07T00:00:00",
          "2024-05-08T00:00:00",
          "2024-05-09T00:00:00",
          "2024-05-11T00:00:00",
          "2024-05-12T00:00:00",
          "2024-05-13T00:00:00",
          "2024-05-14T00:00:00",
          "2024-05-15T00:00:00",
          "2024-05-16T00:00:00",
          "2024-05-17T00:00:00",
          "2024-05-18T00:00:00",
          "2024-05-19T00:00:00",
          "2024-05-25T00:00:00",
          "2024-05-26T00:00:00",
          "2024-05-28T00:00:00",
          "2024-05-31T00:00:00",
          "2024-06-01T00:00:00",
          "2024-06-08T00:00:00",
          "2024-06-10T00:00:00",
          "2024-06-11T00:00:00",
          "2024-06-12T00:00:00",
          "2024-06-13T00:00:00",
          "2024-06-14T00:00:00",
          "2024-06-15T00:00:00",
          "2024-06-16T00:00:00",
          "2024-06-17T00:00:00",
          "2024-06-18T00:00:00",
          "2024-06-19T00:00:00",
          "2024-06-20T00:00:00",
          "2024-06-21T00:00:00",
          "2024-06-22T00:00:00",
          "2024-06-23T00:00:00",
          "2024-06-24T00:00:00",
          "2024-06-25T00:00:00",
          "2024-06-26T00:00:00",
          "2024-06-27T00:00:00",
          "2024-06-28T00:00:00",
          "2024-06-29T00:00:00",
          "2024-06-30T00:00:00"
         ],
         "y": [
          -2,
          -6,
          -2,
          -2,
          -4,
          -8,
          0,
          -10,
          -2,
          -4,
          -4,
          -4,
          0,
          -6,
          -4,
          -12,
          -4,
          0,
          -2,
          -4,
          -6,
          -4,
          -4,
          -4,
          -2,
          -2,
          -6,
          -2,
          -2,
          0,
          -2,
          -10,
          -12,
          -10,
          -10,
          -10,
          -6,
          -6,
          -12,
          -4,
          -2,
          -6,
          -2,
          -8,
          0,
          -6,
          -14,
          -8,
          -2,
          -12,
          -14,
          -6,
          -18,
          -10,
          -4,
          -6,
          -22,
          -10,
          -12,
          -16,
          -8,
          -6,
          -6,
          -4,
          -4,
          -6,
          -4,
          -8,
          -12,
          -16,
          -6,
          -18,
          -18,
          -14,
          -8,
          -10,
          -12,
          -8,
          -10,
          -6,
          -16,
          -18,
          -2,
          -16,
          -14,
          -16,
          -16,
          -10,
          -8,
          -10,
          -10,
          -10,
          -12,
          -2,
          -4,
          -12,
          -8,
          -8,
          -2,
          -2,
          -24,
          -10,
          -12,
          -12,
          -18,
          -8,
          -10,
          -6,
          -14,
          -4,
          -20,
          -8,
          -16,
          -8,
          -14,
          -10,
          -8,
          -6,
          -20,
          -12,
          -14,
          -10,
          -16,
          -12,
          -8,
          -8,
          -6,
          -18,
          -16,
          -4,
          -6,
          -4,
          -8,
          -10,
          -18,
          -12,
          -6,
          0,
          -8,
          -8,
          -2,
          -4,
          -16,
          -4,
          -16,
          -4,
          -2,
          -4,
          -8,
          -10,
          -4,
          -4,
          -6,
          -14,
          -12,
          -6,
          -6,
          -6,
          -10,
          -22,
          -10,
          0,
          -10,
          -10,
          -2,
          -12,
          -8,
          -8,
          -2,
          -2,
          -6,
          -8,
          -8,
          -14,
          -12,
          -10,
          -14,
          -2,
          -8,
          -18,
          -2,
          -18,
          -8,
          -10,
          -6,
          -6,
          -12,
          -14,
          -22,
          -6,
          -14,
          -6,
          -10,
          -8,
          -12,
          -12,
          -12,
          -14,
          -4,
          0,
          -2,
          0,
          -8,
          -4,
          -8,
          -4,
          -4,
          -2,
          -28,
          -16,
          -10,
          -6,
          -12,
          -12,
          -14,
          -20,
          -10,
          -8,
          -20,
          -16,
          -12,
          -6,
          -10,
          -6,
          -14,
          -12,
          -12,
          -16,
          -6,
          -24,
          -10,
          -12,
          -16,
          -16,
          -14,
          -16,
          -14,
          -12,
          -14,
          -10,
          -18,
          -14,
          -12,
          -10,
          -8,
          -10,
          -20,
          -8,
          -12,
          -12,
          -12,
          -6,
          -16,
          -16,
          -4,
          -10,
          -16,
          -14,
          -8,
          -10,
          -8,
          -4,
          -4,
          -6,
          -14,
          -10,
          -10,
          -12,
          -20,
          -12,
          -14,
          -10,
          -10,
          -6,
          -2,
          -10,
          -2,
          0,
          0,
          -2,
          -2,
          -2,
          -6,
          -8,
          -6,
          0,
          -4,
          0,
          -6,
          0,
          -6,
          -4,
          -6,
          0,
          -6,
          0,
          -4,
          -6,
          -4,
          -2,
          -2,
          -4,
          -2,
          -6,
          0,
          0,
          -6,
          -2,
          -4,
          -4,
          -2,
          0,
          -4,
          -2,
          0,
          -8,
          -14,
          -6,
          -8,
          -12,
          -2,
          -2,
          -2,
          -4,
          -6,
          -12,
          -2,
          -8,
          0,
          -4,
          -4,
          -2,
          -8,
          -8,
          -6,
          0,
          -6,
          -4,
          -2,
          -6,
          -6,
          -6,
          -8,
          -6,
          -4,
          -4,
          -4,
          -2,
          -6,
          0,
          -2,
          -2,
          -2,
          -2,
          -2,
          -2,
          0,
          -2,
          -2,
          -2,
          -4,
          0,
          0,
          -4,
          -2,
          -2,
          -4,
          0,
          -6,
          -8,
          -18,
          -14,
          -10,
          -16,
          -18,
          -18,
          -12,
          -18,
          -20,
          -14,
          -4,
          -10,
          -10,
          -6,
          -8,
          -12,
          -10,
          -8,
          -22,
          -10,
          -4,
          -2,
          -6,
          -8,
          -4,
          -6,
          -2,
          -8,
          -14,
          -6,
          -12,
          -2,
          -6,
          -10,
          0,
          -4,
          0,
          0,
          -6,
          0,
          -2,
          -6,
          -4,
          -6,
          -6,
          0,
          -6,
          -10,
          -8,
          -10,
          -8,
          -8,
          -4,
          -10,
          -6,
          -10,
          -6,
          -8,
          -4,
          -8,
          -6,
          -4
         ]
        }
       ],
       "layout": {
        "barmode": "relative",
        "height": 600,
        "legend": {
         "orientation": "h",
         "x": 0.5,
         "xanchor": "center",
         "y": -0.2,
         "yanchor": "top"
        },
        "margin": {
         "b": 40,
         "l": 40,
         "r": 40,
         "t": 80
        },
        "shapes": [
         {
          "line": {
           "color": "black",
           "width": 1
          },
          "type": "line",
          "x0": "2023-01-01T00:00:00",
          "x1": "2024-06-30T00:00:00",
          "y0": 0,
          "y1": 0
         }
        ],
        "template": {
         "data": {
          "bar": [
           {
            "error_x": {
             "color": "#2a3f5f"
            },
            "error_y": {
             "color": "#2a3f5f"
            },
            "marker": {
             "line": {
              "color": "white",
              "width": 0.5
             },
             "pattern": {
              "fillmode": "overlay",
              "size": 10,
              "solidity": 0.2
             }
            },
            "type": "bar"
           }
          ],
          "barpolar": [
           {
            "marker": {
             "line": {
              "color": "white",
              "width": 0.5
             },
             "pattern": {
              "fillmode": "overlay",
              "size": 10,
              "solidity": 0.2
             }
            },
            "type": "barpolar"
           }
          ],
          "carpet": [
           {
            "aaxis": {
             "endlinecolor": "#2a3f5f",
             "gridcolor": "#C8D4E3",
             "linecolor": "#C8D4E3",
             "minorgridcolor": "#C8D4E3",
             "startlinecolor": "#2a3f5f"
            },
            "baxis": {
             "endlinecolor": "#2a3f5f",
             "gridcolor": "#C8D4E3",
             "linecolor": "#C8D4E3",
             "minorgridcolor": "#C8D4E3",
             "startlinecolor": "#2a3f5f"
            },
            "type": "carpet"
           }
          ],
          "choropleth": [
           {
            "colorbar": {
             "outlinewidth": 0,
             "ticks": ""
            },
            "type": "choropleth"
           }
          ],
          "contour": [
           {
            "colorbar": {
             "outlinewidth": 0,
             "ticks": ""
            },
            "colorscale": [
             [
              0,
              "#0d0887"
             ],
             [
              0.1111111111111111,
              "#46039f"
             ],
             [
              0.2222222222222222,
              "#7201a8"
             ],
             [
              0.3333333333333333,
              "#9c179e"
             ],
             [
              0.4444444444444444,
              "#bd3786"
             ],
             [
              0.5555555555555556,
              "#d8576b"
             ],
             [
              0.6666666666666666,
              "#ed7953"
             ],
             [
              0.7777777777777778,
              "#fb9f3a"
             ],
             [
              0.8888888888888888,
              "#fdca26"
             ],
             [
              1,
              "#f0f921"
             ]
            ],
            "type": "contour"
           }
          ],
          "contourcarpet": [
           {
            "colorbar": {
             "outlinewidth": 0,
             "ticks": ""
            },
            "type": "contourcarpet"
           }
          ],
          "heatmap": [
           {
            "colorbar": {
             "outlinewidth": 0,
             "ticks": ""
            },
            "colorscale": [
             [
              0,
              "#0d0887"
             ],
             [
              0.1111111111111111,
              "#46039f"
             ],
             [
              0.2222222222222222,
              "#7201a8"
             ],
             [
              0.3333333333333333,
              "#9c179e"
             ],
             [
              0.4444444444444444,
              "#bd3786"
             ],
             [
              0.5555555555555556,
              "#d8576b"
             ],
             [
              0.6666666666666666,
              "#ed7953"
             ],
             [
              0.7777777777777778,
              "#fb9f3a"
             ],
             [
              0.8888888888888888,
              "#fdca26"
             ],
             [
              1,
              "#f0f921"
             ]
            ],
            "type": "heatmap"
           }
          ],
          "heatmapgl": [
           {
            "colorbar": {
             "outlinewidth": 0,
             "ticks": ""
            },
            "colorscale": [
             [
              0,
              "#0d0887"
             ],
             [
              0.1111111111111111,
              "#46039f"
             ],
             [
              0.2222222222222222,
              "#7201a8"
             ],
             [
              0.3333333333333333,
              "#9c179e"
             ],
             [
              0.4444444444444444,
              "#bd3786"
             ],
             [
              0.5555555555555556,
              "#d8576b"
             ],
             [
              0.6666666666666666,
              "#ed7953"
             ],
             [
              0.7777777777777778,
              "#fb9f3a"
             ],
             [
              0.8888888888888888,
              "#fdca26"
             ],
             [
              1,
              "#f0f921"
             ]
            ],
            "type": "heatmapgl"
           }
          ],
          "histogram": [
           {
            "marker": {
             "pattern": {
              "fillmode": "overlay",
              "size": 10,
              "solidity": 0.2
             }
            },
            "type": "histogram"
           }
          ],
          "histogram2d": [
           {
            "colorbar": {
             "outlinewidth": 0,
             "ticks": ""
            },
            "colorscale": [
             [
              0,
              "#0d0887"
             ],
             [
              0.1111111111111111,
              "#46039f"
             ],
             [
              0.2222222222222222,
              "#7201a8"
             ],
             [
              0.3333333333333333,
              "#9c179e"
             ],
             [
              0.4444444444444444,
              "#bd3786"
             ],
             [
              0.5555555555555556,
              "#d8576b"
             ],
             [
              0.6666666666666666,
              "#ed7953"
             ],
             [
              0.7777777777777778,
              "#fb9f3a"
             ],
             [
              0.8888888888888888,
              "#fdca26"
             ],
             [
              1,
              "#f0f921"
             ]
            ],
            "type": "histogram2d"
           }
          ],
          "histogram2dcontour": [
           {
            "colorbar": {
             "outlinewidth": 0,
             "ticks": ""
            },
            "colorscale": [
             [
              0,
              "#0d0887"
             ],
             [
              0.1111111111111111,
              "#46039f"
             ],
             [
              0.2222222222222222,
              "#7201a8"
             ],
             [
              0.3333333333333333,
              "#9c179e"
             ],
             [
              0.4444444444444444,
              "#bd3786"
             ],
             [
              0.5555555555555556,
              "#d8576b"
             ],
             [
              0.6666666666666666,
              "#ed7953"
             ],
             [
              0.7777777777777778,
              "#fb9f3a"
             ],
             [
              0.8888888888888888,
              "#fdca26"
             ],
             [
              1,
              "#f0f921"
             ]
            ],
            "type": "histogram2dcontour"
           }
          ],
          "mesh3d": [
           {
            "colorbar": {
             "outlinewidth": 0,
             "ticks": ""
            },
            "type": "mesh3d"
           }
          ],
          "parcoords": [
           {
            "line": {
             "colorbar": {
              "outlinewidth": 0,
              "ticks": ""
             }
            },
            "type": "parcoords"
           }
          ],
          "pie": [
           {
            "automargin": true,
            "type": "pie"
           }
          ],
          "scatter": [
           {
            "fillpattern": {
             "fillmode": "overlay",
             "size": 10,
             "solidity": 0.2
            },
            "type": "scatter"
           }
          ],
          "scatter3d": [
           {
            "line": {
             "colorbar": {
              "outlinewidth": 0,
              "ticks": ""
             }
            },
            "marker": {
             "colorbar": {
              "outlinewidth": 0,
              "ticks": ""
             }
            },
            "type": "scatter3d"
           }
          ],
          "scattercarpet": [
           {
            "marker": {
             "colorbar": {
              "outlinewidth": 0,
              "ticks": ""
             }
            },
            "type": "scattercarpet"
           }
          ],
          "scattergeo": [
           {
            "marker": {
             "colorbar": {
              "outlinewidth": 0,
              "ticks": ""
             }
            },
            "type": "scattergeo"
           }
          ],
          "scattergl": [
           {
            "marker": {
             "colorbar": {
              "outlinewidth": 0,
              "ticks": ""
             }
            },
            "type": "scattergl"
           }
          ],
          "scattermapbox": [
           {
            "marker": {
             "colorbar": {
              "outlinewidth": 0,
              "ticks": ""
             }
            },
            "type": "scattermapbox"
           }
          ],
          "scatterpolar": [
           {
            "marker": {
             "colorbar": {
              "outlinewidth": 0,
              "ticks": ""
             }
            },
            "type": "scatterpolar"
           }
          ],
          "scatterpolargl": [
           {
            "marker": {
             "colorbar": {
              "outlinewidth": 0,
              "ticks": ""
             }
            },
            "type": "scatterpolargl"
           }
          ],
          "scatterternary": [
           {
            "marker": {
             "colorbar": {
              "outlinewidth": 0,
              "ticks": ""
             }
            },
            "type": "scatterternary"
           }
          ],
          "surface": [
           {
            "colorbar": {
             "outlinewidth": 0,
             "ticks": ""
            },
            "colorscale": [
             [
              0,
              "#0d0887"
             ],
             [
              0.1111111111111111,
              "#46039f"
             ],
             [
              0.2222222222222222,
              "#7201a8"
             ],
             [
              0.3333333333333333,
              "#9c179e"
             ],
             [
              0.4444444444444444,
              "#bd3786"
             ],
             [
              0.5555555555555556,
              "#d8576b"
             ],
             [
              0.6666666666666666,
              "#ed7953"
             ],
             [
              0.7777777777777778,
              "#fb9f3a"
             ],
             [
              0.8888888888888888,
              "#fdca26"
             ],
             [
              1,
              "#f0f921"
             ]
            ],
            "type": "surface"
           }
          ],
          "table": [
           {
            "cells": {
             "fill": {
              "color": "#EBF0F8"
             },
             "line": {
              "color": "white"
             }
            },
            "header": {
             "fill": {
              "color": "#C8D4E3"
             },
             "line": {
              "color": "white"
             }
            },
            "type": "table"
           }
          ]
         },
         "layout": {
          "annotationdefaults": {
           "arrowcolor": "#2a3f5f",
           "arrowhead": 0,
           "arrowwidth": 1
          },
          "autotypenumbers": "strict",
          "coloraxis": {
           "colorbar": {
            "outlinewidth": 0,
            "ticks": ""
           }
          },
          "colorscale": {
           "diverging": [
            [
             0,
             "#8e0152"
            ],
            [
             0.1,
             "#c51b7d"
            ],
            [
             0.2,
             "#de77ae"
            ],
            [
             0.3,
             "#f1b6da"
            ],
            [
             0.4,
             "#fde0ef"
            ],
            [
             0.5,
             "#f7f7f7"
            ],
            [
             0.6,
             "#e6f5d0"
            ],
            [
             0.7,
             "#b8e186"
            ],
            [
             0.8,
             "#7fbc41"
            ],
            [
             0.9,
             "#4d9221"
            ],
            [
             1,
             "#276419"
            ]
           ],
           "sequential": [
            [
             0,
             "#0d0887"
            ],
            [
             0.1111111111111111,
             "#46039f"
            ],
            [
             0.2222222222222222,
             "#7201a8"
            ],
            [
             0.3333333333333333,
             "#9c179e"
            ],
            [
             0.4444444444444444,
             "#bd3786"
            ],
            [
             0.5555555555555556,
             "#d8576b"
            ],
            [
             0.6666666666666666,
             "#ed7953"
            ],
            [
             0.7777777777777778,
             "#fb9f3a"
            ],
            [
             0.8888888888888888,
             "#fdca26"
            ],
            [
             1,
             "#f0f921"
            ]
           ],
           "sequentialminus": [
            [
             0,
             "#0d0887"
            ],
            [
             0.1111111111111111,
             "#46039f"
            ],
            [
             0.2222222222222222,
             "#7201a8"
            ],
            [
             0.3333333333333333,
             "#9c179e"
            ],
            [
             0.4444444444444444,
             "#bd3786"
            ],
            [
             0.5555555555555556,
             "#d8576b"
            ],
            [
             0.6666666666666666,
             "#ed7953"
            ],
            [
             0.7777777777777778,
             "#fb9f3a"
            ],
            [
             0.8888888888888888,
             "#fdca26"
            ],
            [
             1,
             "#f0f921"
            ]
           ]
          },
          "colorway": [
           "#636efa",
           "#EF553B",
           "#00cc96",
           "#ab63fa",
           "#FFA15A",
           "#19d3f3",
           "#FF6692",
           "#B6E880",
           "#FF97FF",
           "#FECB52"
          ],
          "font": {
           "color": "#2a3f5f"
          },
          "geo": {
           "bgcolor": "white",
           "lakecolor": "white",
           "landcolor": "white",
           "showlakes": true,
           "showland": true,
           "subunitcolor": "#C8D4E3"
          },
          "hoverlabel": {
           "align": "left"
          },
          "hovermode": "closest",
          "mapbox": {
           "style": "light"
          },
          "paper_bgcolor": "white",
          "plot_bgcolor": "white",
          "polar": {
           "angularaxis": {
            "gridcolor": "#EBF0F8",
            "linecolor": "#EBF0F8",
            "ticks": ""
           },
           "bgcolor": "white",
           "radialaxis": {
            "gridcolor": "#EBF0F8",
            "linecolor": "#EBF0F8",
            "ticks": ""
           }
          },
          "scene": {
           "xaxis": {
            "backgroundcolor": "white",
            "gridcolor": "#DFE8F3",
            "gridwidth": 2,
            "linecolor": "#EBF0F8",
            "showbackground": true,
            "ticks": "",
            "zerolinecolor": "#EBF0F8"
           },
           "yaxis": {
            "backgroundcolor": "white",
            "gridcolor": "#DFE8F3",
            "gridwidth": 2,
            "linecolor": "#EBF0F8",
            "showbackground": true,
            "ticks": "",
            "zerolinecolor": "#EBF0F8"
           },
           "zaxis": {
            "backgroundcolor": "white",
            "gridcolor": "#DFE8F3",
            "gridwidth": 2,
            "linecolor": "#EBF0F8",
            "showbackground": true,
            "ticks": "",
            "zerolinecolor": "#EBF0F8"
           }
          },
          "shapedefaults": {
           "line": {
            "color": "#2a3f5f"
           }
          },
          "ternary": {
           "aaxis": {
            "gridcolor": "#DFE8F3",
            "linecolor": "#A2B1C6",
            "ticks": ""
           },
           "baxis": {
            "gridcolor": "#DFE8F3",
            "linecolor": "#A2B1C6",
            "ticks": ""
           },
           "bgcolor": "white",
           "caxis": {
            "gridcolor": "#DFE8F3",
            "linecolor": "#A2B1C6",
            "ticks": ""
           }
          },
          "title": {
           "x": 0.05
          },
          "xaxis": {
           "automargin": true,
           "gridcolor": "#EBF0F8",
           "linecolor": "#EBF0F8",
           "ticks": "",
           "title": {
            "standoff": 15
           },
           "zerolinecolor": "#EBF0F8",
           "zerolinewidth": 2
          },
          "yaxis": {
           "automargin": true,
           "gridcolor": "#EBF0F8",
           "linecolor": "#EBF0F8",
           "ticks": "",
           "title": {
            "standoff": 15
           },
           "zerolinecolor": "#EBF0F8",
           "zerolinewidth": 2
          }
         }
        },
        "title": {
         "text": "Trading Volume"
        },
        "width": 800,
        "xaxis": {
         "dtick": "M3",
         "showgrid": true,
         "showticklabels": true,
         "tickangle": 0,
         "tickformat": "%b %Y",
         "zeroline": true
        },
        "yaxis": {
         "title": {
          "text": "Number of Trades"
         }
        }
       }
      }
     },
     "metadata": {},
     "output_type": "display_data"
    }
   ],
   "source": [
    "import pandas as pd\n",
    "import plotly.graph_objects as go\n",
    "\n",
    "trades_filepath = './results/test/trades_log.csv'\n",
    "trades_df = pd.read_csv(trades_filepath)\n",
    "\n",
    "trades_df['open_time'] = pd.to_datetime(trades_df['open_time'])\n",
    "trades_df['close_time'] = pd.to_datetime(trades_df['close_time'])\n",
    "\n",
    "trades_df['open_date'] = trades_df['open_time'].dt.date\n",
    "trades_df['close_date'] = trades_df['close_time'].dt.date\n",
    "\n",
    "trades_opened_per_day = trades_df['open_date'].value_counts().sort_index()\n",
    "\n",
    "trades_closed_per_day = trades_df['close_date'].value_counts().sort_index()\n",
    "\n",
    "trades_counts = pd.DataFrame({\n",
    "    'date': pd.to_datetime(trades_opened_per_day.index),\n",
    "    'trades_opened': trades_opened_per_day.values,\n",
    "    'trades_closed': -trades_closed_per_day.reindex(trades_opened_per_day.index, fill_value=0).values\n",
    "})\n",
    "\n",
    "fig = go.Figure()\n",
    "\n",
    "fig.add_trace(go.Bar(\n",
    "    x=trades_counts['date'],\n",
    "    y=trades_counts['trades_opened'],\n",
    "    name='Position Opened',\n",
    "    marker_color='green',\n",
    "    opacity=1.0\n",
    "))\n",
    "\n",
    "fig.add_trace(go.Bar(\n",
    "    x=trades_counts['date'],\n",
    "    y=trades_counts['trades_closed'],\n",
    "    name='Position Closed',\n",
    "    marker_color='red',\n",
    "    opacity=1.0\n",
    "))\n",
    "\n",
    "fig.add_shape(\n",
    "    type=\"line\",\n",
    "    x0=trades_counts['date'].min(), x1=trades_counts['date'].max(),\n",
    "    y0=0, y1=0,\n",
    "    line=dict(color=\"black\", width=1)\n",
    ")\n",
    "\n",
    "fig.update_layout(\n",
    "    title='Trading Volume',\n",
    "    yaxis_title='Number of Trades',\n",
    "    barmode='relative',\n",
    "    template='plotly_white',\n",
    "    width=800,\n",
    "    height=600,\n",
    "    margin=dict(l=40, r=40, t=80, b=40), \n",
    "    legend=dict(\n",
    "        orientation='h',\n",
    "        x=0.5,\n",
    "        y=-0.2,\n",
    "        xanchor='center',\n",
    "        yanchor='top'\n",
    "    )\n",
    ")\n",
    "\n",
    "fig.update_xaxes(\n",
    "    tickformat='%b %Y',\n",
    "    tickangle=0,\n",
    "    showgrid=True,\n",
    "    zeroline=True,\n",
    "    showticklabels=True,\n",
    "    dtick='M3'\n",
    ")\n",
    "\n",
    "fig.show()"
   ]
  },
  {
   "cell_type": "code",
   "execution_count": null,
   "metadata": {},
   "outputs": [],
   "source": []
  }
 ],
 "metadata": {
  "kernelspec": {
   "display_name": "sklearn0242",
   "language": "python",
   "name": "python3"
  },
  "language_info": {
   "codemirror_mode": {
    "name": "ipython",
    "version": 3
   },
   "file_extension": ".py",
   "mimetype": "text/x-python",
   "name": "python",
   "nbconvert_exporter": "python",
   "pygments_lexer": "ipython3",
   "version": "3.9.18"
  }
 },
 "nbformat": 4,
 "nbformat_minor": 2
}
