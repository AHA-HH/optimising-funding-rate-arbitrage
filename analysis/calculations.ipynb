{
 "cells": [
  {
   "cell_type": "code",
   "execution_count": 1,
   "metadata": {},
   "outputs": [
    {
     "data": {
      "text/plain": [
       "'/Users/aneeshussain/Code/diss/analysis'"
      ]
     },
     "execution_count": 1,
     "metadata": {},
     "output_type": "execute_result"
    }
   ],
   "source": [
    "# %pip install plotly\n",
    "# %pip install nbformat\n",
    "import pandas as pd\n",
    "import matplotlib.pyplot as plt\n",
    "import sys\n",
    "import os\n",
    "import plotly.express as px\n",
    "import plotly.graph_objects as go\n",
    "from plotly.subplots import make_subplots\n",
    "\n",
    "os.getcwd()"
   ]
  },
  {
   "cell_type": "code",
   "execution_count": 2,
   "metadata": {},
   "outputs": [
    {
     "name": "stdout",
     "output_type": "stream",
     "text": [
      "Changed directory to: /Users/aneeshussain/Code/diss\n"
     ]
    }
   ],
   "source": [
    "# Get the current directory\n",
    "current_dir = os.getcwd()\n",
    "\n",
    "# Change directory to the parent directory (diss)\n",
    "parent_dir = os.path.abspath(os.path.join(current_dir, '..'))\n",
    "os.chdir(parent_dir)\n",
    "\n",
    "# Append the parent directory to the system path (optional, if you want to add it to the import path)\n",
    "sys.path.append(parent_dir)\n",
    "\n",
    "# Print the new current working directory to confirm the change\n",
    "print(f\"Changed directory to: {os.getcwd()}\")"
   ]
  },
  {
   "cell_type": "code",
   "execution_count": 3,
   "metadata": {},
   "outputs": [
    {
     "name": "stdout",
     "output_type": "stream",
     "text": [
      "binance Funding stats\n",
      "          positive_count  total_count  positive_percentage\n",
      "BTCUSDCM            1435         1642            87.393423\n",
      "BTCUSDT             1517         1642            92.387333\n",
      "ETHUSDCM            1467         1642            89.342266\n",
      "ETHUSDT             1539         1642            93.727162\n",
      "\n",
      "\n",
      "okx Funding stats\n",
      "          positive_count  total_count  positive_percentage\n",
      "BTCUSDCM            1132         1642            68.940317\n",
      "BTCUSDT             1203         1642            73.264312\n",
      "ETHUSDCM            1163         1642            70.828258\n",
      "ETHUSDT             1226         1642            74.665043\n",
      "\n",
      "\n",
      "bybit Funding stats\n",
      "          positive_count  total_count  positive_percentage\n",
      "BTCUSDCM            1472         1642            89.646772\n",
      "BTCUSDT             1494         1642            90.986602\n",
      "ETHUSDCM            1481         1642            90.194884\n",
      "ETHUSDT             1474         1642            89.768575\n",
      "\n",
      "\n"
     ]
    }
   ],
   "source": [
    "filepaths = {\n",
    "    'binance': './data/processed/binance.csv',\n",
    "    'okx': './data/processed/okx.csv',\n",
    "    'bybit': './data/processed/bybit.csv'\n",
    "}\n",
    "\n",
    "# List of specified pairs\n",
    "specified_pairs = ['BTCUSDCM', 'BTCUSDT', 'ETHUSDCM', 'ETHUSDT']\n",
    "\n",
    "# Initialize a dictionary to store counts for each exchange\n",
    "exchange_funding_stats = {}\n",
    "\n",
    "# Loop through each exchange\n",
    "for exchange, filepath in filepaths.items():\n",
    "    # Load the data for the current exchange\n",
    "    df = pd.read_csv(filepath)\n",
    "\n",
    "    # Convert 'funding rate' to float\n",
    "    df['funding rate'] = pd.to_numeric(df['funding rate'], errors='coerce')\n",
    "\n",
    "    # Filter the DataFrame to only include the specified pairs\n",
    "    filtered_df = df[df['pair'].isin(specified_pairs)]\n",
    "\n",
    "    # Initialize dictionaries to store counts for this exchange\n",
    "    positive_funding_counts = {}\n",
    "    total_funding_counts = {}\n",
    "\n",
    "    # Iterate through each specified pair\n",
    "    for pair in specified_pairs:\n",
    "        # Filter rows for the current pair\n",
    "        pair_df = filtered_df[filtered_df['pair'] == pair]\n",
    "\n",
    "        # Count positive funding rates\n",
    "        positive_count = (pair_df['funding rate'] > 0).sum()\n",
    "        total_count = len(pair_df)\n",
    "\n",
    "        # Store the counts in the dictionaries\n",
    "        positive_funding_counts[pair] = positive_count\n",
    "        total_funding_counts[pair] = total_count\n",
    "\n",
    "    # Create a DataFrame for this exchange to display the counts\n",
    "    funding_stats = pd.DataFrame({\n",
    "        'positive_count': positive_funding_counts,\n",
    "        'total_count': total_funding_counts\n",
    "    })\n",
    "\n",
    "    # Calculate the percentage of positive funding rates\n",
    "    funding_stats['positive_percentage'] = (funding_stats['positive_count'] / funding_stats['total_count']) * 100\n",
    "\n",
    "    # Store the result for this exchange\n",
    "    exchange_funding_stats[exchange] = funding_stats\n",
    "\n",
    "# Display the results for each exchange\n",
    "for exchange, stats in exchange_funding_stats.items():\n",
    "    print(f\"{exchange} Funding stats\")\n",
    "    print(stats)\n",
    "    print(\"\\n\")"
   ]
  },
  {
   "cell_type": "code",
   "execution_count": 4,
   "metadata": {},
   "outputs": [
    {
     "name": "stdout",
     "output_type": "stream",
     "text": [
      "Hold average funding rate: 3581973.695275749\n",
      "Simple average funding rate: 1254712.4667579024\n",
      "Simple Reinvest average funding rate: 1290910.318003559\n",
      "Complex average funding rate: 1278043.596267812\n",
      "Complex Reinvest average funding rate: 1317241.4917293699\n"
     ]
    }
   ],
   "source": [
    "df = pd.read_csv('./results/hold/funding_log.csv')\n",
    "print(f\"Hold average funding rate: {df['funding payment'].sum()}\")\n",
    "\n",
    "df = pd.read_csv('./results/simple_threshold/funding_log.csv')\n",
    "print(f\"Simple average funding rate: {df['funding payment'].sum()}\")\n",
    "\n",
    "df = pd.read_csv('./results/simple_reinvest/funding_log.csv')\n",
    "print(f\"Simple Reinvest average funding rate: {df['funding payment'].sum()}\")\n",
    "\n",
    "df = pd.read_csv('./results/complex_threshold/funding_log.csv')\n",
    "print(f\"Complex average funding rate: {df['funding payment'].sum()}\")\n",
    "\n",
    "df = pd.read_csv('./results/complex_reinvest/funding_log.csv')\n",
    "print(f\"Complex Reinvest average funding rate: {df['funding payment'].sum()}\")"
   ]
  },
  {
   "cell_type": "code",
   "execution_count": 8,
   "metadata": {},
   "outputs": [
    {
     "name": "stdout",
     "output_type": "stream",
     "text": [
      "0.0005059947208201541\n",
      "20.278699915911247\n"
     ]
    },
    {
     "name": "stderr",
     "output_type": "stream",
     "text": [
      "/var/folders/mf/b67_blxs1rj380h3rh2kgtlh0000gn/T/ipykernel_50091/303903876.py:6: SettingWithCopyWarning: \n",
      "A value is trying to be set on a copy of a slice from a DataFrame.\n",
      "Try using .loc[row_indexer,col_indexer] = value instead\n",
      "\n",
      "See the caveats in the documentation: https://pandas.pydata.org/pandas-docs/stable/user_guide/indexing.html#returning-a-view-versus-a-copy\n",
      "  perpetual_df['date'] = perpetual_df['time'].dt.date\n"
     ]
    }
   ],
   "source": [
    "df = pd.read_csv('./data/processed/okx_eth.csv')\n",
    "df['time'] = pd.to_datetime(df['time'])\n",
    "\n",
    "perpetual_df = df[df['contract'] == 'perpetual']\n",
    "\n",
    "perpetual_df['date'] = perpetual_df['time'].dt.date\n",
    "\n",
    "daily_funding_rate = perpetual_df.groupby('date')['funding rate'].sum()\n",
    "\n",
    "daily_mean_funding_rate = daily_funding_rate.mean()\n",
    "annualised_avg_funding_rate = (1 + daily_mean_funding_rate) ** 365 - 1\n",
    "print(daily_mean_funding_rate)\n",
    "print(annualised_avg_funding_rate * 100)"
   ]
  },
  {
   "cell_type": "code",
   "execution_count": 6,
   "metadata": {},
   "outputs": [
    {
     "name": "stdout",
     "output_type": "stream",
     "text": [
      "Table saved to ./results/compare/mean_yield_table.csv\n"
     ]
    }
   ],
   "source": [
    "file_paths = {\n",
    "    'Hold': './results/hold/yield.csv',\n",
    "    'Simple': './results/simple_threshold/yield.csv',\n",
    "    'Simple Reinvest': './results/simple_reinvest/yield.csv',\n",
    "    'Complex': './results/complex_threshold/yield.csv',\n",
    "    'Complex Reinvest': './results/complex_reinvest/yield.csv'\n",
    "}\n",
    "\n",
    "mean_values_dict = {}\n",
    "\n",
    "for strategy, file_path in file_paths.items():\n",
    "    df = pd.read_csv(file_path)\n",
    "\n",
    "    df_no_first_column = df.iloc[:, 1:]\n",
    "  \n",
    "    mean_values = df_no_first_column.mean()\n",
    "    \n",
    "    # annualised_mean_values = (1 + mean_values) ** 365 - 1\n",
    "    # mean_values_dict[strategy] = annualised_mean_values\n",
    "    mean_values_dict[strategy] = mean_values\n",
    "\n",
    "mean_table = pd.DataFrame(mean_values_dict).transpose()\n",
    "\n",
    "mean_table = mean_table.round(3)\n",
    "\n",
    "output_file = './results/compare/mean_yield_table.csv'\n",
    "mean_table.to_csv(output_file)\n",
    "\n",
    "print(f\"Table saved to {output_file}\")"
   ]
  },
  {
   "cell_type": "code",
   "execution_count": 12,
   "metadata": {},
   "outputs": [
    {
     "name": "stdout",
     "output_type": "stream",
     "text": [
      "binance_btcusd_yield    0.570631\n",
      "binance_btccm_yield     0.651782\n",
      "binance_ethusd_yield    0.373980\n",
      "binance_ethcm_yield     0.385915\n",
      "bybit_btcusd_yield      0.671859\n",
      "bybit_btccm_yield       0.859515\n",
      "bybit_ethusd_yield      0.343129\n",
      "bybit_ethcm_yield       0.359032\n",
      "okx_btcusd_yield        0.625258\n",
      "okx_btccm_yield         0.587621\n",
      "okx_ethusd_yield        0.344771\n",
      "okx_ethcm_yield         0.381536\n",
      "binance_btc_yield       1.222412\n",
      "binance_eth_yield       0.759894\n",
      "bybit_btc_yield         1.531374\n",
      "bybit_eth_yield         0.702161\n",
      "okx_btc_yield           1.212879\n",
      "okx_eth_yield           0.726307\n",
      "binance_total_yield     1.982307\n",
      "bybit_total_yield       2.233535\n",
      "okx_total_yield         1.939186\n",
      "btc_total_yield         3.966666\n",
      "eth_total_yield         2.188362\n",
      "total_yield             6.155028\n",
      "dtype: float64\n"
     ]
    }
   ],
   "source": [
    "df = pd.read_csv('./results/hold/yield.csv')\n",
    "\n",
    "df_no_first_column = df.iloc[:, 1:]\n",
    "\n",
    "mean_values = df_no_first_column.mean()\n",
    "\n",
    "print(mean_values)\n",
    "\n",
    "# annualised_mean_values = (1 + mean_values) ** 365 - 1\n",
    "\n",
    "# print(annualised_mean_values)"
   ]
  },
  {
   "cell_type": "code",
   "execution_count": null,
   "metadata": {},
   "outputs": [],
   "source": []
  }
 ],
 "metadata": {
  "kernelspec": {
   "display_name": "sklearn0242",
   "language": "python",
   "name": "python3"
  },
  "language_info": {
   "codemirror_mode": {
    "name": "ipython",
    "version": 3
   },
   "file_extension": ".py",
   "mimetype": "text/x-python",
   "name": "python",
   "nbconvert_exporter": "python",
   "pygments_lexer": "ipython3",
   "version": "3.9.18"
  }
 },
 "nbformat": 4,
 "nbformat_minor": 2
}
